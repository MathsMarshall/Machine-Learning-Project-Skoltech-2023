{
  "cells": [
    {
      "cell_type": "code",
      "execution_count": null,
      "metadata": {
        "id": "roR7Xdszh5HB"
      },
      "outputs": [],
      "source": [
        "import pandas as pd"
      ]
    },
    {
      "cell_type": "code",
      "execution_count": null,
      "metadata": {
        "id": "9XIzOrkOh_U8"
      },
      "outputs": [],
      "source": [
        "df = pd.read_csv(\"Box4_data.csv\")"
      ]
    },
    {
      "cell_type": "code",
      "execution_count": null,
      "metadata": {
        "id": "QTdIM5GgrRI5"
      },
      "outputs": [],
      "source": [
        "\n",
        "df = df.sample(frac=1)\n"
      ]
    },
    {
      "cell_type": "code",
      "execution_count": null,
      "metadata": {
        "id": "XQwj8kmOiome"
      },
      "outputs": [],
      "source": [
        "y = df['y']"
      ]
    },
    {
      "cell_type": "code",
      "execution_count": null,
      "metadata": {
        "colab": {
          "base_uri": "https://localhost:8080/"
        },
        "id": "lH-GzbkSq0rL",
        "outputId": "7482ad38-5ebb-4126-b977-f6577568188c"
      },
      "outputs": [
        {
          "output_type": "execute_result",
          "data": {
            "text/plain": [
              "37165    6896623\n",
              "47176    7381811\n",
              "15529    5742667\n",
              "16776    5838766\n",
              "39991    7003144\n",
              "          ...   \n",
              "45644    7256803\n",
              "7193     4904948\n",
              "35379    6817267\n",
              "44785    7205555\n",
              "21216    6176765\n",
              "Name: y, Length: 53293, dtype: int64"
            ]
          },
          "metadata": {},
          "execution_count": 141
        }
      ],
      "source": [
        "y"
      ]
    },
    {
      "cell_type": "code",
      "execution_count": null,
      "metadata": {
        "colab": {
          "base_uri": "https://localhost:8080/",
          "height": 443
        },
        "id": "_uMfkV1FPobR",
        "outputId": "4190e60e-3564-4e36-fefa-c0af2ea24ff0"
      },
      "outputs": [
        {
          "output_type": "execute_result",
          "data": {
            "text/plain": [
              "           X     ID        y        x    Lat    Long  Elev  PRES  MWMT  MCMT  \\\n",
              "32004  46314   5451  6614109 -1523531  47.07 -115.24  1476     1  14.9  -6.2   \n",
              "37785  55420  64054  6920671 -1845711  48.62 -120.69  2131     0  10.3  -7.1   \n",
              "52817  73383  71077  9360374 -3531180  54.94 -163.81   101     0  10.5  -1.7   \n",
              "35776  52663  65250  6841848 -1382895  49.40 -114.38  1613     0  14.6  -9.5   \n",
              "6881    9990  79152  4868351 -1718672  32.23 -111.76   660     0  30.8  10.1   \n",
              "...      ...    ...      ...      ...    ...     ...   ...   ...   ...   ...   \n",
              "33312  48587  15507  6693354 -2070964  45.95 -122.19   430     1  17.3   1.1   \n",
              "9450   14088  44294  5163475 -1207650  35.58 -107.48  2051     0  21.3  -2.4   \n",
              "3362    4433  77275  4211769 -1937343  26.69 -112.11   570     0  27.0  14.4   \n",
              "8651   12692  43407  5063503 -1207347  34.76 -107.28  2011     0  21.7  -0.2   \n",
              "43626  62389  69440  7136409 -1055771  52.78 -111.02   670     0  17.1 -15.4   \n",
              "\n",
              "         PPT_sm      MDMP       DD5    AHM      PC1      PC2      PC3  \\\n",
              "32004  5.105945  3.663562  7.013915   11.0  1.22890  0.12312 -0.27231   \n",
              "37785  4.804021  3.526361  6.293419    7.8  2.07829  1.01705 -0.61422   \n",
              "52817  5.347108  4.007333  6.442540   14.4  1.95973  0.13317 -0.51900   \n",
              "35776  5.225747  3.871201  6.979145   14.7  1.49279  0.07671  0.07591   \n",
              "6881   4.804021  1.386294  8.601167  103.0 -3.92841  0.14334  0.35906   \n",
              "...         ...       ...       ...    ...      ...      ...      ...   \n",
              "33312  5.433722  4.007333  7.540622    5.4  0.60055 -0.95015 -0.52186   \n",
              "9450   4.672829  2.302585  7.759187   76.1 -1.34567  0.84109  0.41508   \n",
              "3362   4.343805  0.000000  8.643473  171.7 -5.18109  1.74869  0.60339   \n",
              "8651   4.836282  2.302585  7.872074   74.0 -1.49051  0.55346  0.31943   \n",
              "43626  5.342334  2.772589  7.294377   28.8  0.79924  0.54641  0.58922   \n",
              "\n",
              "           PC4      PC5      PC6  \n",
              "32004  0.25863  0.20918  0.01265  \n",
              "37785  0.30859  0.71214  0.22137  \n",
              "52817  0.36151  1.26196  0.23467  \n",
              "35776  0.29622  0.17500 -0.06261  \n",
              "6881  -0.65356 -0.04616  0.41177  \n",
              "...        ...      ...      ...  \n",
              "33312  0.38455  0.25953 -0.07643  \n",
              "9450  -0.16333  0.15024 -0.05362  \n",
              "3362  -1.15723  1.21417 -0.05833  \n",
              "8651  -0.26360  0.22139 -0.06334  \n",
              "43626 -0.67311 -0.38000 -0.25559  \n",
              "\n",
              "[53293 rows x 20 columns]"
            ],
            "text/html": [
              "\n",
              "  <div id=\"df-93e98c80-df31-4525-b9e9-5e5aa4b23c96\" class=\"colab-df-container\">\n",
              "    <div>\n",
              "<style scoped>\n",
              "    .dataframe tbody tr th:only-of-type {\n",
              "        vertical-align: middle;\n",
              "    }\n",
              "\n",
              "    .dataframe tbody tr th {\n",
              "        vertical-align: top;\n",
              "    }\n",
              "\n",
              "    .dataframe thead th {\n",
              "        text-align: right;\n",
              "    }\n",
              "</style>\n",
              "<table border=\"1\" class=\"dataframe\">\n",
              "  <thead>\n",
              "    <tr style=\"text-align: right;\">\n",
              "      <th></th>\n",
              "      <th>X</th>\n",
              "      <th>ID</th>\n",
              "      <th>y</th>\n",
              "      <th>x</th>\n",
              "      <th>Lat</th>\n",
              "      <th>Long</th>\n",
              "      <th>Elev</th>\n",
              "      <th>PRES</th>\n",
              "      <th>MWMT</th>\n",
              "      <th>MCMT</th>\n",
              "      <th>PPT_sm</th>\n",
              "      <th>MDMP</th>\n",
              "      <th>DD5</th>\n",
              "      <th>AHM</th>\n",
              "      <th>PC1</th>\n",
              "      <th>PC2</th>\n",
              "      <th>PC3</th>\n",
              "      <th>PC4</th>\n",
              "      <th>PC5</th>\n",
              "      <th>PC6</th>\n",
              "    </tr>\n",
              "  </thead>\n",
              "  <tbody>\n",
              "    <tr>\n",
              "      <th>32004</th>\n",
              "      <td>46314</td>\n",
              "      <td>5451</td>\n",
              "      <td>6614109</td>\n",
              "      <td>-1523531</td>\n",
              "      <td>47.07</td>\n",
              "      <td>-115.24</td>\n",
              "      <td>1476</td>\n",
              "      <td>1</td>\n",
              "      <td>14.9</td>\n",
              "      <td>-6.2</td>\n",
              "      <td>5.105945</td>\n",
              "      <td>3.663562</td>\n",
              "      <td>7.013915</td>\n",
              "      <td>11.0</td>\n",
              "      <td>1.22890</td>\n",
              "      <td>0.12312</td>\n",
              "      <td>-0.27231</td>\n",
              "      <td>0.25863</td>\n",
              "      <td>0.20918</td>\n",
              "      <td>0.01265</td>\n",
              "    </tr>\n",
              "    <tr>\n",
              "      <th>37785</th>\n",
              "      <td>55420</td>\n",
              "      <td>64054</td>\n",
              "      <td>6920671</td>\n",
              "      <td>-1845711</td>\n",
              "      <td>48.62</td>\n",
              "      <td>-120.69</td>\n",
              "      <td>2131</td>\n",
              "      <td>0</td>\n",
              "      <td>10.3</td>\n",
              "      <td>-7.1</td>\n",
              "      <td>4.804021</td>\n",
              "      <td>3.526361</td>\n",
              "      <td>6.293419</td>\n",
              "      <td>7.8</td>\n",
              "      <td>2.07829</td>\n",
              "      <td>1.01705</td>\n",
              "      <td>-0.61422</td>\n",
              "      <td>0.30859</td>\n",
              "      <td>0.71214</td>\n",
              "      <td>0.22137</td>\n",
              "    </tr>\n",
              "    <tr>\n",
              "      <th>52817</th>\n",
              "      <td>73383</td>\n",
              "      <td>71077</td>\n",
              "      <td>9360374</td>\n",
              "      <td>-3531180</td>\n",
              "      <td>54.94</td>\n",
              "      <td>-163.81</td>\n",
              "      <td>101</td>\n",
              "      <td>0</td>\n",
              "      <td>10.5</td>\n",
              "      <td>-1.7</td>\n",
              "      <td>5.347108</td>\n",
              "      <td>4.007333</td>\n",
              "      <td>6.442540</td>\n",
              "      <td>14.4</td>\n",
              "      <td>1.95973</td>\n",
              "      <td>0.13317</td>\n",
              "      <td>-0.51900</td>\n",
              "      <td>0.36151</td>\n",
              "      <td>1.26196</td>\n",
              "      <td>0.23467</td>\n",
              "    </tr>\n",
              "    <tr>\n",
              "      <th>35776</th>\n",
              "      <td>52663</td>\n",
              "      <td>65250</td>\n",
              "      <td>6841848</td>\n",
              "      <td>-1382895</td>\n",
              "      <td>49.40</td>\n",
              "      <td>-114.38</td>\n",
              "      <td>1613</td>\n",
              "      <td>0</td>\n",
              "      <td>14.6</td>\n",
              "      <td>-9.5</td>\n",
              "      <td>5.225747</td>\n",
              "      <td>3.871201</td>\n",
              "      <td>6.979145</td>\n",
              "      <td>14.7</td>\n",
              "      <td>1.49279</td>\n",
              "      <td>0.07671</td>\n",
              "      <td>0.07591</td>\n",
              "      <td>0.29622</td>\n",
              "      <td>0.17500</td>\n",
              "      <td>-0.06261</td>\n",
              "    </tr>\n",
              "    <tr>\n",
              "      <th>6881</th>\n",
              "      <td>9990</td>\n",
              "      <td>79152</td>\n",
              "      <td>4868351</td>\n",
              "      <td>-1718672</td>\n",
              "      <td>32.23</td>\n",
              "      <td>-111.76</td>\n",
              "      <td>660</td>\n",
              "      <td>0</td>\n",
              "      <td>30.8</td>\n",
              "      <td>10.1</td>\n",
              "      <td>4.804021</td>\n",
              "      <td>1.386294</td>\n",
              "      <td>8.601167</td>\n",
              "      <td>103.0</td>\n",
              "      <td>-3.92841</td>\n",
              "      <td>0.14334</td>\n",
              "      <td>0.35906</td>\n",
              "      <td>-0.65356</td>\n",
              "      <td>-0.04616</td>\n",
              "      <td>0.41177</td>\n",
              "    </tr>\n",
              "    <tr>\n",
              "      <th>...</th>\n",
              "      <td>...</td>\n",
              "      <td>...</td>\n",
              "      <td>...</td>\n",
              "      <td>...</td>\n",
              "      <td>...</td>\n",
              "      <td>...</td>\n",
              "      <td>...</td>\n",
              "      <td>...</td>\n",
              "      <td>...</td>\n",
              "      <td>...</td>\n",
              "      <td>...</td>\n",
              "      <td>...</td>\n",
              "      <td>...</td>\n",
              "      <td>...</td>\n",
              "      <td>...</td>\n",
              "      <td>...</td>\n",
              "      <td>...</td>\n",
              "      <td>...</td>\n",
              "      <td>...</td>\n",
              "      <td>...</td>\n",
              "    </tr>\n",
              "    <tr>\n",
              "      <th>33312</th>\n",
              "      <td>48587</td>\n",
              "      <td>15507</td>\n",
              "      <td>6693354</td>\n",
              "      <td>-2070964</td>\n",
              "      <td>45.95</td>\n",
              "      <td>-122.19</td>\n",
              "      <td>430</td>\n",
              "      <td>1</td>\n",
              "      <td>17.3</td>\n",
              "      <td>1.1</td>\n",
              "      <td>5.433722</td>\n",
              "      <td>4.007333</td>\n",
              "      <td>7.540622</td>\n",
              "      <td>5.4</td>\n",
              "      <td>0.60055</td>\n",
              "      <td>-0.95015</td>\n",
              "      <td>-0.52186</td>\n",
              "      <td>0.38455</td>\n",
              "      <td>0.25953</td>\n",
              "      <td>-0.07643</td>\n",
              "    </tr>\n",
              "    <tr>\n",
              "      <th>9450</th>\n",
              "      <td>14088</td>\n",
              "      <td>44294</td>\n",
              "      <td>5163475</td>\n",
              "      <td>-1207650</td>\n",
              "      <td>35.58</td>\n",
              "      <td>-107.48</td>\n",
              "      <td>2051</td>\n",
              "      <td>0</td>\n",
              "      <td>21.3</td>\n",
              "      <td>-2.4</td>\n",
              "      <td>4.672829</td>\n",
              "      <td>2.302585</td>\n",
              "      <td>7.759187</td>\n",
              "      <td>76.1</td>\n",
              "      <td>-1.34567</td>\n",
              "      <td>0.84109</td>\n",
              "      <td>0.41508</td>\n",
              "      <td>-0.16333</td>\n",
              "      <td>0.15024</td>\n",
              "      <td>-0.05362</td>\n",
              "    </tr>\n",
              "    <tr>\n",
              "      <th>3362</th>\n",
              "      <td>4433</td>\n",
              "      <td>77275</td>\n",
              "      <td>4211769</td>\n",
              "      <td>-1937343</td>\n",
              "      <td>26.69</td>\n",
              "      <td>-112.11</td>\n",
              "      <td>570</td>\n",
              "      <td>0</td>\n",
              "      <td>27.0</td>\n",
              "      <td>14.4</td>\n",
              "      <td>4.343805</td>\n",
              "      <td>0.000000</td>\n",
              "      <td>8.643473</td>\n",
              "      <td>171.7</td>\n",
              "      <td>-5.18109</td>\n",
              "      <td>1.74869</td>\n",
              "      <td>0.60339</td>\n",
              "      <td>-1.15723</td>\n",
              "      <td>1.21417</td>\n",
              "      <td>-0.05833</td>\n",
              "    </tr>\n",
              "    <tr>\n",
              "      <th>8651</th>\n",
              "      <td>12692</td>\n",
              "      <td>43407</td>\n",
              "      <td>5063503</td>\n",
              "      <td>-1207347</td>\n",
              "      <td>34.76</td>\n",
              "      <td>-107.28</td>\n",
              "      <td>2011</td>\n",
              "      <td>0</td>\n",
              "      <td>21.7</td>\n",
              "      <td>-0.2</td>\n",
              "      <td>4.836282</td>\n",
              "      <td>2.302585</td>\n",
              "      <td>7.872074</td>\n",
              "      <td>74.0</td>\n",
              "      <td>-1.49051</td>\n",
              "      <td>0.55346</td>\n",
              "      <td>0.31943</td>\n",
              "      <td>-0.26360</td>\n",
              "      <td>0.22139</td>\n",
              "      <td>-0.06334</td>\n",
              "    </tr>\n",
              "    <tr>\n",
              "      <th>43626</th>\n",
              "      <td>62389</td>\n",
              "      <td>69440</td>\n",
              "      <td>7136409</td>\n",
              "      <td>-1055771</td>\n",
              "      <td>52.78</td>\n",
              "      <td>-111.02</td>\n",
              "      <td>670</td>\n",
              "      <td>0</td>\n",
              "      <td>17.1</td>\n",
              "      <td>-15.4</td>\n",
              "      <td>5.342334</td>\n",
              "      <td>2.772589</td>\n",
              "      <td>7.294377</td>\n",
              "      <td>28.8</td>\n",
              "      <td>0.79924</td>\n",
              "      <td>0.54641</td>\n",
              "      <td>0.58922</td>\n",
              "      <td>-0.67311</td>\n",
              "      <td>-0.38000</td>\n",
              "      <td>-0.25559</td>\n",
              "    </tr>\n",
              "  </tbody>\n",
              "</table>\n",
              "<p>53293 rows × 20 columns</p>\n",
              "</div>\n",
              "    <div class=\"colab-df-buttons\">\n",
              "\n",
              "  <div class=\"colab-df-container\">\n",
              "    <button class=\"colab-df-convert\" onclick=\"convertToInteractive('df-93e98c80-df31-4525-b9e9-5e5aa4b23c96')\"\n",
              "            title=\"Convert this dataframe to an interactive table.\"\n",
              "            style=\"display:none;\">\n",
              "\n",
              "  <svg xmlns=\"http://www.w3.org/2000/svg\" height=\"24px\" viewBox=\"0 -960 960 960\">\n",
              "    <path d=\"M120-120v-720h720v720H120Zm60-500h600v-160H180v160Zm220 220h160v-160H400v160Zm0 220h160v-160H400v160ZM180-400h160v-160H180v160Zm440 0h160v-160H620v160ZM180-180h160v-160H180v160Zm440 0h160v-160H620v160Z\"/>\n",
              "  </svg>\n",
              "    </button>\n",
              "\n",
              "  <style>\n",
              "    .colab-df-container {\n",
              "      display:flex;\n",
              "      gap: 12px;\n",
              "    }\n",
              "\n",
              "    .colab-df-convert {\n",
              "      background-color: #E8F0FE;\n",
              "      border: none;\n",
              "      border-radius: 50%;\n",
              "      cursor: pointer;\n",
              "      display: none;\n",
              "      fill: #1967D2;\n",
              "      height: 32px;\n",
              "      padding: 0 0 0 0;\n",
              "      width: 32px;\n",
              "    }\n",
              "\n",
              "    .colab-df-convert:hover {\n",
              "      background-color: #E2EBFA;\n",
              "      box-shadow: 0px 1px 2px rgba(60, 64, 67, 0.3), 0px 1px 3px 1px rgba(60, 64, 67, 0.15);\n",
              "      fill: #174EA6;\n",
              "    }\n",
              "\n",
              "    .colab-df-buttons div {\n",
              "      margin-bottom: 4px;\n",
              "    }\n",
              "\n",
              "    [theme=dark] .colab-df-convert {\n",
              "      background-color: #3B4455;\n",
              "      fill: #D2E3FC;\n",
              "    }\n",
              "\n",
              "    [theme=dark] .colab-df-convert:hover {\n",
              "      background-color: #434B5C;\n",
              "      box-shadow: 0px 1px 3px 1px rgba(0, 0, 0, 0.15);\n",
              "      filter: drop-shadow(0px 1px 2px rgba(0, 0, 0, 0.3));\n",
              "      fill: #FFFFFF;\n",
              "    }\n",
              "  </style>\n",
              "\n",
              "    <script>\n",
              "      const buttonEl =\n",
              "        document.querySelector('#df-93e98c80-df31-4525-b9e9-5e5aa4b23c96 button.colab-df-convert');\n",
              "      buttonEl.style.display =\n",
              "        google.colab.kernel.accessAllowed ? 'block' : 'none';\n",
              "\n",
              "      async function convertToInteractive(key) {\n",
              "        const element = document.querySelector('#df-93e98c80-df31-4525-b9e9-5e5aa4b23c96');\n",
              "        const dataTable =\n",
              "          await google.colab.kernel.invokeFunction('convertToInteractive',\n",
              "                                                    [key], {});\n",
              "        if (!dataTable) return;\n",
              "\n",
              "        const docLinkHtml = 'Like what you see? Visit the ' +\n",
              "          '<a target=\"_blank\" href=https://colab.research.google.com/notebooks/data_table.ipynb>data table notebook</a>'\n",
              "          + ' to learn more about interactive tables.';\n",
              "        element.innerHTML = '';\n",
              "        dataTable['output_type'] = 'display_data';\n",
              "        await google.colab.output.renderOutput(dataTable, element);\n",
              "        const docLink = document.createElement('div');\n",
              "        docLink.innerHTML = docLinkHtml;\n",
              "        element.appendChild(docLink);\n",
              "      }\n",
              "    </script>\n",
              "  </div>\n",
              "\n",
              "\n",
              "<div id=\"df-5e8dd180-1a4e-4879-9ff4-c59c2255e462\">\n",
              "  <button class=\"colab-df-quickchart\" onclick=\"quickchart('df-5e8dd180-1a4e-4879-9ff4-c59c2255e462')\"\n",
              "            title=\"Suggest charts\"\n",
              "            style=\"display:none;\">\n",
              "\n",
              "<svg xmlns=\"http://www.w3.org/2000/svg\" height=\"24px\"viewBox=\"0 0 24 24\"\n",
              "     width=\"24px\">\n",
              "    <g>\n",
              "        <path d=\"M19 3H5c-1.1 0-2 .9-2 2v14c0 1.1.9 2 2 2h14c1.1 0 2-.9 2-2V5c0-1.1-.9-2-2-2zM9 17H7v-7h2v7zm4 0h-2V7h2v10zm4 0h-2v-4h2v4z\"/>\n",
              "    </g>\n",
              "</svg>\n",
              "  </button>\n",
              "\n",
              "<style>\n",
              "  .colab-df-quickchart {\n",
              "      --bg-color: #E8F0FE;\n",
              "      --fill-color: #1967D2;\n",
              "      --hover-bg-color: #E2EBFA;\n",
              "      --hover-fill-color: #174EA6;\n",
              "      --disabled-fill-color: #AAA;\n",
              "      --disabled-bg-color: #DDD;\n",
              "  }\n",
              "\n",
              "  [theme=dark] .colab-df-quickchart {\n",
              "      --bg-color: #3B4455;\n",
              "      --fill-color: #D2E3FC;\n",
              "      --hover-bg-color: #434B5C;\n",
              "      --hover-fill-color: #FFFFFF;\n",
              "      --disabled-bg-color: #3B4455;\n",
              "      --disabled-fill-color: #666;\n",
              "  }\n",
              "\n",
              "  .colab-df-quickchart {\n",
              "    background-color: var(--bg-color);\n",
              "    border: none;\n",
              "    border-radius: 50%;\n",
              "    cursor: pointer;\n",
              "    display: none;\n",
              "    fill: var(--fill-color);\n",
              "    height: 32px;\n",
              "    padding: 0;\n",
              "    width: 32px;\n",
              "  }\n",
              "\n",
              "  .colab-df-quickchart:hover {\n",
              "    background-color: var(--hover-bg-color);\n",
              "    box-shadow: 0 1px 2px rgba(60, 64, 67, 0.3), 0 1px 3px 1px rgba(60, 64, 67, 0.15);\n",
              "    fill: var(--button-hover-fill-color);\n",
              "  }\n",
              "\n",
              "  .colab-df-quickchart-complete:disabled,\n",
              "  .colab-df-quickchart-complete:disabled:hover {\n",
              "    background-color: var(--disabled-bg-color);\n",
              "    fill: var(--disabled-fill-color);\n",
              "    box-shadow: none;\n",
              "  }\n",
              "\n",
              "  .colab-df-spinner {\n",
              "    border: 2px solid var(--fill-color);\n",
              "    border-color: transparent;\n",
              "    border-bottom-color: var(--fill-color);\n",
              "    animation:\n",
              "      spin 1s steps(1) infinite;\n",
              "  }\n",
              "\n",
              "  @keyframes spin {\n",
              "    0% {\n",
              "      border-color: transparent;\n",
              "      border-bottom-color: var(--fill-color);\n",
              "      border-left-color: var(--fill-color);\n",
              "    }\n",
              "    20% {\n",
              "      border-color: transparent;\n",
              "      border-left-color: var(--fill-color);\n",
              "      border-top-color: var(--fill-color);\n",
              "    }\n",
              "    30% {\n",
              "      border-color: transparent;\n",
              "      border-left-color: var(--fill-color);\n",
              "      border-top-color: var(--fill-color);\n",
              "      border-right-color: var(--fill-color);\n",
              "    }\n",
              "    40% {\n",
              "      border-color: transparent;\n",
              "      border-right-color: var(--fill-color);\n",
              "      border-top-color: var(--fill-color);\n",
              "    }\n",
              "    60% {\n",
              "      border-color: transparent;\n",
              "      border-right-color: var(--fill-color);\n",
              "    }\n",
              "    80% {\n",
              "      border-color: transparent;\n",
              "      border-right-color: var(--fill-color);\n",
              "      border-bottom-color: var(--fill-color);\n",
              "    }\n",
              "    90% {\n",
              "      border-color: transparent;\n",
              "      border-bottom-color: var(--fill-color);\n",
              "    }\n",
              "  }\n",
              "</style>\n",
              "\n",
              "  <script>\n",
              "    async function quickchart(key) {\n",
              "      const quickchartButtonEl =\n",
              "        document.querySelector('#' + key + ' button');\n",
              "      quickchartButtonEl.disabled = true;  // To prevent multiple clicks.\n",
              "      quickchartButtonEl.classList.add('colab-df-spinner');\n",
              "      try {\n",
              "        const charts = await google.colab.kernel.invokeFunction(\n",
              "            'suggestCharts', [key], {});\n",
              "      } catch (error) {\n",
              "        console.error('Error during call to suggestCharts:', error);\n",
              "      }\n",
              "      quickchartButtonEl.classList.remove('colab-df-spinner');\n",
              "      quickchartButtonEl.classList.add('colab-df-quickchart-complete');\n",
              "    }\n",
              "    (() => {\n",
              "      let quickchartButtonEl =\n",
              "        document.querySelector('#df-5e8dd180-1a4e-4879-9ff4-c59c2255e462 button');\n",
              "      quickchartButtonEl.style.display =\n",
              "        google.colab.kernel.accessAllowed ? 'block' : 'none';\n",
              "    })();\n",
              "  </script>\n",
              "</div>\n",
              "    </div>\n",
              "  </div>\n"
            ],
            "application/vnd.google.colaboratory.intrinsic+json": {
              "type": "dataframe",
              "variable_name": "df",
              "summary": "{\n  \"name\": \"df\",\n  \"rows\": 53293,\n  \"fields\": [\n    {\n      \"column\": \"X\",\n      \"properties\": {\n        \"dtype\": \"number\",\n        \"std\": 21635,\n        \"min\": 23,\n        \"max\": 73932,\n        \"num_unique_values\": 53293,\n        \"samples\": [\n          55900,\n          42418,\n          39487\n        ],\n        \"semantic_type\": \"\",\n        \"description\": \"\"\n      }\n    },\n    {\n      \"column\": \"ID\",\n      \"properties\": {\n        \"dtype\": \"number\",\n        \"std\": 28230,\n        \"min\": 1,\n        \"max\": 92760,\n        \"num_unique_values\": 53293,\n        \"samples\": [\n          66112,\n          10236,\n          10160\n        ],\n        \"semantic_type\": \"\",\n        \"description\": \"\"\n      }\n    },\n    {\n      \"column\": \"y\",\n      \"properties\": {\n        \"dtype\": \"number\",\n        \"std\": 1208588,\n        \"min\": 2473441,\n        \"max\": 10140328,\n        \"num_unique_values\": 52226,\n        \"samples\": [\n          6476456,\n          6425145,\n          5758471\n        ],\n        \"semantic_type\": \"\",\n        \"description\": \"\"\n      }\n    },\n    {\n      \"column\": \"x\",\n      \"properties\": {\n        \"dtype\": \"number\",\n        \"std\": 566301,\n        \"min\": -3862125,\n        \"max\": 0,\n        \"num_unique_values\": 51861,\n        \"samples\": [\n          -1062088,\n          -1532768,\n          -1627073\n        ],\n        \"semantic_type\": \"\",\n        \"description\": \"\"\n      }\n    },\n    {\n      \"column\": \"Lat\",\n      \"properties\": {\n        \"dtype\": \"number\",\n        \"std\": 9.338218695698698,\n        \"min\": 15.7,\n        \"max\": 79.88,\n        \"num_unique_values\": 12634,\n        \"samples\": [\n          56.85,\n          49.384,\n          50.723\n        ],\n        \"semantic_type\": \"\",\n        \"description\": \"\"\n      }\n    },\n    {\n      \"column\": \"Long\",\n      \"properties\": {\n        \"dtype\": \"number\",\n        \"std\": 9.782284692358251,\n        \"min\": -171.8,\n        \"max\": -95.0,\n        \"num_unique_values\": 13025,\n        \"samples\": [\n          -115.8769,\n          -121.1313,\n          -120.1667\n        ],\n        \"semantic_type\": \"\",\n        \"description\": \"\"\n      }\n    },\n    {\n      \"column\": \"Elev\",\n      \"properties\": {\n        \"dtype\": \"number\",\n        \"std\": 715,\n        \"min\": -75,\n        \"max\": 5558,\n        \"num_unique_values\": 3233,\n        \"samples\": [\n          2230,\n          1865,\n          1906\n        ],\n        \"semantic_type\": \"\",\n        \"description\": \"\"\n      }\n    },\n    {\n      \"column\": \"PRES\",\n      \"properties\": {\n        \"dtype\": \"number\",\n        \"std\": 0,\n        \"min\": 0,\n        \"max\": 1,\n        \"num_unique_values\": 2,\n        \"samples\": [\n          0,\n          1\n        ],\n        \"semantic_type\": \"\",\n        \"description\": \"\"\n      }\n    },\n    {\n      \"column\": \"MWMT\",\n      \"properties\": {\n        \"dtype\": \"number\",\n        \"std\": 5.331430650526507,\n        \"min\": -0.1,\n        \"max\": 37.9,\n        \"num_unique_values\": 347,\n        \"samples\": [\n          4.3,\n          16.1\n        ],\n        \"semantic_type\": \"\",\n        \"description\": \"\"\n      }\n    },\n    {\n      \"column\": \"MCMT\",\n      \"properties\": {\n        \"dtype\": \"number\",\n        \"std\": 8.541717682168487,\n        \"min\": -37.0,\n        \"max\": 27.5,\n        \"num_unique_values\": 637,\n        \"samples\": [\n          -15.0,\n          -7.7\n        ],\n        \"semantic_type\": \"\",\n        \"description\": \"\"\n      }\n    },\n    {\n      \"column\": \"PPT_sm\",\n      \"properties\": {\n        \"dtype\": \"number\",\n        \"std\": 0.7892490716819919,\n        \"min\": 0.0,\n        \"max\": 7.64108424917491,\n        \"num_unique_values\": 1068,\n        \"samples\": [\n          6.60665018619822,\n          5.84354441703136\n        ],\n        \"semantic_type\": \"\",\n        \"description\": \"\"\n      }\n    },\n    {\n      \"column\": \"MDMP\",\n      \"properties\": {\n        \"dtype\": \"number\",\n        \"std\": 0.947441672617798,\n        \"min\": 0.0,\n        \"max\": 5.99645208861902,\n        \"num_unique_values\": 257,\n        \"samples\": [\n          4.65396035015752,\n          4.90527477843843\n        ],\n        \"semantic_type\": \"\",\n        \"description\": \"\"\n      }\n    },\n    {\n      \"column\": \"DD5\",\n      \"properties\": {\n        \"dtype\": \"number\",\n        \"std\": 0.695344755149561,\n        \"min\": 3.17805383034795,\n        \"max\": 9.06600800108626,\n        \"num_unique_values\": 6744,\n        \"samples\": [\n          8.6159519634395,\n          7.77485576666552\n        ],\n        \"semantic_type\": \"\",\n        \"description\": \"\"\n      }\n    },\n    {\n      \"column\": \"AHM\",\n      \"properties\": {\n        \"dtype\": \"number\",\n        \"std\": 43.978807444438104,\n        \"min\": -148.4,\n        \"max\": 686.8,\n        \"num_unique_values\": 2715,\n        \"samples\": [\n          57.1,\n          151.0\n        ],\n        \"semantic_type\": \"\",\n        \"description\": \"\"\n      }\n    },\n    {\n      \"column\": \"PC1\",\n      \"properties\": {\n        \"dtype\": \"number\",\n        \"std\": 1.9162213189698714,\n        \"min\": -12.05751,\n        \"max\": 7.17392,\n        \"num_unique_values\": 51099,\n        \"samples\": [\n          1.19546,\n          -1.26831\n        ],\n        \"semantic_type\": \"\",\n        \"description\": \"\"\n      }\n    },\n    {\n      \"column\": \"PC2\",\n      \"properties\": {\n        \"dtype\": \"number\",\n        \"std\": 1.0793214376311027,\n        \"min\": -4.55692,\n        \"max\": 7.67965,\n        \"num_unique_values\": 48774,\n        \"samples\": [\n          1.18402,\n          0.655\n        ],\n        \"semantic_type\": \"\",\n        \"description\": \"\"\n      }\n    },\n    {\n      \"column\": \"PC3\",\n      \"properties\": {\n        \"dtype\": \"number\",\n        \"std\": 0.6817159852952746,\n        \"min\": -3.18632,\n        \"max\": 9.61253,\n        \"num_unique_values\": 46246,\n        \"samples\": [\n          0.02587,\n          -0.04409\n        ],\n        \"semantic_type\": \"\",\n        \"description\": \"\"\n      }\n    },\n    {\n      \"column\": \"PC4\",\n      \"properties\": {\n        \"dtype\": \"number\",\n        \"std\": 0.5950252585493512,\n        \"min\": -3.46113,\n        \"max\": 3.29539,\n        \"num_unique_values\": 44348,\n        \"samples\": [\n          0.08168,\n          -0.60871\n        ],\n        \"semantic_type\": \"\",\n        \"description\": \"\"\n      }\n    },\n    {\n      \"column\": \"PC5\",\n      \"properties\": {\n        \"dtype\": \"number\",\n        \"std\": 0.5361412826600319,\n        \"min\": -2.01957,\n        \"max\": 6.41485,\n        \"num_unique_values\": 45431,\n        \"samples\": [\n          0.11734,\n          0.63094\n        ],\n        \"semantic_type\": \"\",\n        \"description\": \"\"\n      }\n    },\n    {\n      \"column\": \"PC6\",\n      \"properties\": {\n        \"dtype\": \"number\",\n        \"std\": 0.19282762371881731,\n        \"min\": -0.82113,\n        \"max\": 2.04602,\n        \"num_unique_values\": 33409,\n        \"samples\": [\n          0.25859,\n          0.2655\n        ],\n        \"semantic_type\": \"\",\n        \"description\": \"\"\n      }\n    }\n  ]\n}"
            }
          },
          "metadata": {},
          "execution_count": 132
        }
      ],
      "source": [
        "df"
      ]
    },
    {
      "cell_type": "code",
      "execution_count": null,
      "metadata": {
        "id": "I8sJgadfPoxl"
      },
      "outputs": [],
      "source": [
        "import seaborn as sns"
      ]
    },
    {
      "cell_type": "code",
      "execution_count": null,
      "metadata": {
        "id": "GT7MoKTKtzov"
      },
      "outputs": [],
      "source": [
        "def categorise ( num):\n",
        "  if num < 3e6 :\n",
        "    return 1\n",
        "  elif num < 4.5e6:\n",
        "    return 2\n",
        "  elif num < 6e6 :\n",
        "    return 3\n",
        "  elif num < 7.5e6:\n",
        "    return 4\n",
        "  elif num < 9e6:\n",
        "    return 5\n",
        "  else :\n",
        "    return 6"
      ]
    },
    {
      "cell_type": "code",
      "source": [
        "y"
      ],
      "metadata": {
        "colab": {
          "base_uri": "https://localhost:8080/"
        },
        "id": "pFJBW8tA-KHJ",
        "outputId": "11a9cd9e-fd40-452f-debe-c62f801e9d9f"
      },
      "execution_count": null,
      "outputs": [
        {
          "output_type": "execute_result",
          "data": {
            "text/plain": [
              "33262    6690189\n",
              "37052    6892380\n",
              "27097    6445181\n",
              "18326    5966183\n",
              "2139     3849100\n",
              "          ...   \n",
              "10575    5289647\n",
              "1253     3350200\n",
              "41057    7038040\n",
              "23497    6310831\n",
              "28113    6472996\n",
              "Name: y, Length: 53293, dtype: int64"
            ]
          },
          "metadata": {},
          "execution_count": 7
        }
      ]
    },
    {
      "cell_type": "code",
      "source": [
        "df['y'] = y.apply(categorise)"
      ],
      "metadata": {
        "id": "NWeqrx1h-ypn"
      },
      "execution_count": null,
      "outputs": []
    },
    {
      "cell_type": "code",
      "execution_count": null,
      "metadata": {
        "id": "O0OQ-NRvtUnr"
      },
      "outputs": [],
      "source": [
        "y = df['y']"
      ]
    },
    {
      "cell_type": "code",
      "source": [
        "y"
      ],
      "metadata": {
        "colab": {
          "base_uri": "https://localhost:8080/"
        },
        "id": "Cma_ELuk-_SE",
        "outputId": "7bbd2153-ffbb-4612-a139-972bcbaceaaa"
      },
      "execution_count": null,
      "outputs": [
        {
          "output_type": "execute_result",
          "data": {
            "text/plain": [
              "33262    4\n",
              "37052    4\n",
              "27097    4\n",
              "18326    3\n",
              "2139     2\n",
              "        ..\n",
              "10575    3\n",
              "1253     2\n",
              "41057    4\n",
              "23497    4\n",
              "28113    4\n",
              "Name: y, Length: 53293, dtype: int64"
            ]
          },
          "metadata": {},
          "execution_count": 10
        }
      ]
    },
    {
      "cell_type": "code",
      "source": [
        "df"
      ],
      "metadata": {
        "colab": {
          "base_uri": "https://localhost:8080/",
          "height": 443
        },
        "id": "BbW2oial9Yjv",
        "outputId": "2b2f2cf8-91dc-46d4-82d3-ecb6d2bd60d4"
      },
      "execution_count": null,
      "outputs": [
        {
          "output_type": "execute_result",
          "data": {
            "text/plain": [
              "           X     ID        y        x    Lat    Long  Elev  PRES  MWMT  MCMT  \\\n",
              "52510  73033  74019  9161144 -2594737  61.16 -151.96    91     0  13.9  -8.3   \n",
              "15022  22948  47573  5697182 -2013919  38.10 -117.17  1946     0  22.1  -1.0   \n",
              "13277  20331  49061  5541999 -1026633  39.02 -106.34  3764     0   9.4 -11.0   \n",
              "34400  50518   6173  6758066 -2006705  46.71 -121.78  1460     1  13.3  -2.4   \n",
              "32097  46467  63636  6618745 -1026879  48.29 -108.91   959     0  20.2  -8.6   \n",
              "...      ...    ...      ...      ...    ...     ...   ...   ...   ...   ...   \n",
              "72       182  74423  2564320   -95473  16.35  -95.70   315     0  27.2  23.5   \n",
              "4992    6976  39669  4541983  -743237  31.09 -102.03   729     0  28.4   7.0   \n",
              "23397  34669  54976  6306174 -2121193  42.65 -120.83  2039     0  14.6  -3.8   \n",
              "15228  23227  50778  5714938 -1236862  40.12 -109.01  1670     0  23.6  -7.7   \n",
              "45475  64592  66323  7244341 -2147242  50.07 -126.37   451     0  15.3   0.1   \n",
              "\n",
              "         PPT_sm      MDMP       DD5   AHM      PC1      PC2      PC3      PC4  \\\n",
              "52510  5.594711  3.931826  6.821107  11.0  1.76806 -0.20462  0.06030  0.04966   \n",
              "15022  4.025352  2.397895  7.757051  93.5 -1.80789  1.35918  0.44154  0.49821   \n",
              "13277  5.075174  3.737670  5.886104  12.5  2.70355  1.08074 -0.17475  0.21160   \n",
              "34400  5.283204  3.806662  6.936343   6.0  1.40908 -0.12704 -0.56855  0.25186   \n",
              "32097  4.948760  2.302585  7.551712  43.6 -0.39646  0.72890  0.30212 -0.57440   \n",
              "...         ...       ...       ...   ...      ...      ...      ...      ...   \n",
              "72     5.918894  0.000000  8.854379  57.5 -4.07434 -0.71919 -1.32425 -2.62380   \n",
              "4992   4.736198  2.484907  8.511175  73.6 -2.80899 -0.31697  0.16438  0.12131   \n",
              "23397  4.158883  2.708050  6.992096  21.4  0.45681  1.40617 -0.82951  0.29944   \n",
              "15228  3.988984  2.397895  7.839526  83.2 -1.59466  1.40366  0.73747  0.42306   \n",
              "45475  5.308268  4.077537  7.261225   6.6  0.99397 -0.61245 -0.55709  0.50631   \n",
              "\n",
              "           PC5      PC6  \n",
              "52510  0.45070  0.07976  \n",
              "15022  0.17593  0.01334  \n",
              "13277  0.90573  0.46635  \n",
              "34400  0.61318  0.01965  \n",
              "32097 -0.36668 -0.05139  \n",
              "...        ...      ...  \n",
              "72     0.60756  0.18727  \n",
              "4992  -0.28468  0.18330  \n",
              "23397  0.11521 -0.00036  \n",
              "15228 -0.53258 -0.05414  \n",
              "45475  0.48024 -0.04001  \n",
              "\n",
              "[53293 rows x 20 columns]"
            ],
            "text/html": [
              "\n",
              "  <div id=\"df-cd9adc4d-680e-4d7e-8190-87314926476b\" class=\"colab-df-container\">\n",
              "    <div>\n",
              "<style scoped>\n",
              "    .dataframe tbody tr th:only-of-type {\n",
              "        vertical-align: middle;\n",
              "    }\n",
              "\n",
              "    .dataframe tbody tr th {\n",
              "        vertical-align: top;\n",
              "    }\n",
              "\n",
              "    .dataframe thead th {\n",
              "        text-align: right;\n",
              "    }\n",
              "</style>\n",
              "<table border=\"1\" class=\"dataframe\">\n",
              "  <thead>\n",
              "    <tr style=\"text-align: right;\">\n",
              "      <th></th>\n",
              "      <th>X</th>\n",
              "      <th>ID</th>\n",
              "      <th>y</th>\n",
              "      <th>x</th>\n",
              "      <th>Lat</th>\n",
              "      <th>Long</th>\n",
              "      <th>Elev</th>\n",
              "      <th>PRES</th>\n",
              "      <th>MWMT</th>\n",
              "      <th>MCMT</th>\n",
              "      <th>PPT_sm</th>\n",
              "      <th>MDMP</th>\n",
              "      <th>DD5</th>\n",
              "      <th>AHM</th>\n",
              "      <th>PC1</th>\n",
              "      <th>PC2</th>\n",
              "      <th>PC3</th>\n",
              "      <th>PC4</th>\n",
              "      <th>PC5</th>\n",
              "      <th>PC6</th>\n",
              "    </tr>\n",
              "  </thead>\n",
              "  <tbody>\n",
              "    <tr>\n",
              "      <th>52510</th>\n",
              "      <td>73033</td>\n",
              "      <td>74019</td>\n",
              "      <td>9161144</td>\n",
              "      <td>-2594737</td>\n",
              "      <td>61.16</td>\n",
              "      <td>-151.96</td>\n",
              "      <td>91</td>\n",
              "      <td>0</td>\n",
              "      <td>13.9</td>\n",
              "      <td>-8.3</td>\n",
              "      <td>5.594711</td>\n",
              "      <td>3.931826</td>\n",
              "      <td>6.821107</td>\n",
              "      <td>11.0</td>\n",
              "      <td>1.76806</td>\n",
              "      <td>-0.20462</td>\n",
              "      <td>0.06030</td>\n",
              "      <td>0.04966</td>\n",
              "      <td>0.45070</td>\n",
              "      <td>0.07976</td>\n",
              "    </tr>\n",
              "    <tr>\n",
              "      <th>15022</th>\n",
              "      <td>22948</td>\n",
              "      <td>47573</td>\n",
              "      <td>5697182</td>\n",
              "      <td>-2013919</td>\n",
              "      <td>38.10</td>\n",
              "      <td>-117.17</td>\n",
              "      <td>1946</td>\n",
              "      <td>0</td>\n",
              "      <td>22.1</td>\n",
              "      <td>-1.0</td>\n",
              "      <td>4.025352</td>\n",
              "      <td>2.397895</td>\n",
              "      <td>7.757051</td>\n",
              "      <td>93.5</td>\n",
              "      <td>-1.80789</td>\n",
              "      <td>1.35918</td>\n",
              "      <td>0.44154</td>\n",
              "      <td>0.49821</td>\n",
              "      <td>0.17593</td>\n",
              "      <td>0.01334</td>\n",
              "    </tr>\n",
              "    <tr>\n",
              "      <th>13277</th>\n",
              "      <td>20331</td>\n",
              "      <td>49061</td>\n",
              "      <td>5541999</td>\n",
              "      <td>-1026633</td>\n",
              "      <td>39.02</td>\n",
              "      <td>-106.34</td>\n",
              "      <td>3764</td>\n",
              "      <td>0</td>\n",
              "      <td>9.4</td>\n",
              "      <td>-11.0</td>\n",
              "      <td>5.075174</td>\n",
              "      <td>3.737670</td>\n",
              "      <td>5.886104</td>\n",
              "      <td>12.5</td>\n",
              "      <td>2.70355</td>\n",
              "      <td>1.08074</td>\n",
              "      <td>-0.17475</td>\n",
              "      <td>0.21160</td>\n",
              "      <td>0.90573</td>\n",
              "      <td>0.46635</td>\n",
              "    </tr>\n",
              "    <tr>\n",
              "      <th>34400</th>\n",
              "      <td>50518</td>\n",
              "      <td>6173</td>\n",
              "      <td>6758066</td>\n",
              "      <td>-2006705</td>\n",
              "      <td>46.71</td>\n",
              "      <td>-121.78</td>\n",
              "      <td>1460</td>\n",
              "      <td>1</td>\n",
              "      <td>13.3</td>\n",
              "      <td>-2.4</td>\n",
              "      <td>5.283204</td>\n",
              "      <td>3.806662</td>\n",
              "      <td>6.936343</td>\n",
              "      <td>6.0</td>\n",
              "      <td>1.40908</td>\n",
              "      <td>-0.12704</td>\n",
              "      <td>-0.56855</td>\n",
              "      <td>0.25186</td>\n",
              "      <td>0.61318</td>\n",
              "      <td>0.01965</td>\n",
              "    </tr>\n",
              "    <tr>\n",
              "      <th>32097</th>\n",
              "      <td>46467</td>\n",
              "      <td>63636</td>\n",
              "      <td>6618745</td>\n",
              "      <td>-1026879</td>\n",
              "      <td>48.29</td>\n",
              "      <td>-108.91</td>\n",
              "      <td>959</td>\n",
              "      <td>0</td>\n",
              "      <td>20.2</td>\n",
              "      <td>-8.6</td>\n",
              "      <td>4.948760</td>\n",
              "      <td>2.302585</td>\n",
              "      <td>7.551712</td>\n",
              "      <td>43.6</td>\n",
              "      <td>-0.39646</td>\n",
              "      <td>0.72890</td>\n",
              "      <td>0.30212</td>\n",
              "      <td>-0.57440</td>\n",
              "      <td>-0.36668</td>\n",
              "      <td>-0.05139</td>\n",
              "    </tr>\n",
              "    <tr>\n",
              "      <th>...</th>\n",
              "      <td>...</td>\n",
              "      <td>...</td>\n",
              "      <td>...</td>\n",
              "      <td>...</td>\n",
              "      <td>...</td>\n",
              "      <td>...</td>\n",
              "      <td>...</td>\n",
              "      <td>...</td>\n",
              "      <td>...</td>\n",
              "      <td>...</td>\n",
              "      <td>...</td>\n",
              "      <td>...</td>\n",
              "      <td>...</td>\n",
              "      <td>...</td>\n",
              "      <td>...</td>\n",
              "      <td>...</td>\n",
              "      <td>...</td>\n",
              "      <td>...</td>\n",
              "      <td>...</td>\n",
              "      <td>...</td>\n",
              "    </tr>\n",
              "    <tr>\n",
              "      <th>72</th>\n",
              "      <td>182</td>\n",
              "      <td>74423</td>\n",
              "      <td>2564320</td>\n",
              "      <td>-95473</td>\n",
              "      <td>16.35</td>\n",
              "      <td>-95.70</td>\n",
              "      <td>315</td>\n",
              "      <td>0</td>\n",
              "      <td>27.2</td>\n",
              "      <td>23.5</td>\n",
              "      <td>5.918894</td>\n",
              "      <td>0.000000</td>\n",
              "      <td>8.854379</td>\n",
              "      <td>57.5</td>\n",
              "      <td>-4.07434</td>\n",
              "      <td>-0.71919</td>\n",
              "      <td>-1.32425</td>\n",
              "      <td>-2.62380</td>\n",
              "      <td>0.60756</td>\n",
              "      <td>0.18727</td>\n",
              "    </tr>\n",
              "    <tr>\n",
              "      <th>4992</th>\n",
              "      <td>6976</td>\n",
              "      <td>39669</td>\n",
              "      <td>4541983</td>\n",
              "      <td>-743237</td>\n",
              "      <td>31.09</td>\n",
              "      <td>-102.03</td>\n",
              "      <td>729</td>\n",
              "      <td>0</td>\n",
              "      <td>28.4</td>\n",
              "      <td>7.0</td>\n",
              "      <td>4.736198</td>\n",
              "      <td>2.484907</td>\n",
              "      <td>8.511175</td>\n",
              "      <td>73.6</td>\n",
              "      <td>-2.80899</td>\n",
              "      <td>-0.31697</td>\n",
              "      <td>0.16438</td>\n",
              "      <td>0.12131</td>\n",
              "      <td>-0.28468</td>\n",
              "      <td>0.18330</td>\n",
              "    </tr>\n",
              "    <tr>\n",
              "      <th>23397</th>\n",
              "      <td>34669</td>\n",
              "      <td>54976</td>\n",
              "      <td>6306174</td>\n",
              "      <td>-2121193</td>\n",
              "      <td>42.65</td>\n",
              "      <td>-120.83</td>\n",
              "      <td>2039</td>\n",
              "      <td>0</td>\n",
              "      <td>14.6</td>\n",
              "      <td>-3.8</td>\n",
              "      <td>4.158883</td>\n",
              "      <td>2.708050</td>\n",
              "      <td>6.992096</td>\n",
              "      <td>21.4</td>\n",
              "      <td>0.45681</td>\n",
              "      <td>1.40617</td>\n",
              "      <td>-0.82951</td>\n",
              "      <td>0.29944</td>\n",
              "      <td>0.11521</td>\n",
              "      <td>-0.00036</td>\n",
              "    </tr>\n",
              "    <tr>\n",
              "      <th>15228</th>\n",
              "      <td>23227</td>\n",
              "      <td>50778</td>\n",
              "      <td>5714938</td>\n",
              "      <td>-1236862</td>\n",
              "      <td>40.12</td>\n",
              "      <td>-109.01</td>\n",
              "      <td>1670</td>\n",
              "      <td>0</td>\n",
              "      <td>23.6</td>\n",
              "      <td>-7.7</td>\n",
              "      <td>3.988984</td>\n",
              "      <td>2.397895</td>\n",
              "      <td>7.839526</td>\n",
              "      <td>83.2</td>\n",
              "      <td>-1.59466</td>\n",
              "      <td>1.40366</td>\n",
              "      <td>0.73747</td>\n",
              "      <td>0.42306</td>\n",
              "      <td>-0.53258</td>\n",
              "      <td>-0.05414</td>\n",
              "    </tr>\n",
              "    <tr>\n",
              "      <th>45475</th>\n",
              "      <td>64592</td>\n",
              "      <td>66323</td>\n",
              "      <td>7244341</td>\n",
              "      <td>-2147242</td>\n",
              "      <td>50.07</td>\n",
              "      <td>-126.37</td>\n",
              "      <td>451</td>\n",
              "      <td>0</td>\n",
              "      <td>15.3</td>\n",
              "      <td>0.1</td>\n",
              "      <td>5.308268</td>\n",
              "      <td>4.077537</td>\n",
              "      <td>7.261225</td>\n",
              "      <td>6.6</td>\n",
              "      <td>0.99397</td>\n",
              "      <td>-0.61245</td>\n",
              "      <td>-0.55709</td>\n",
              "      <td>0.50631</td>\n",
              "      <td>0.48024</td>\n",
              "      <td>-0.04001</td>\n",
              "    </tr>\n",
              "  </tbody>\n",
              "</table>\n",
              "<p>53293 rows × 20 columns</p>\n",
              "</div>\n",
              "    <div class=\"colab-df-buttons\">\n",
              "\n",
              "  <div class=\"colab-df-container\">\n",
              "    <button class=\"colab-df-convert\" onclick=\"convertToInteractive('df-cd9adc4d-680e-4d7e-8190-87314926476b')\"\n",
              "            title=\"Convert this dataframe to an interactive table.\"\n",
              "            style=\"display:none;\">\n",
              "\n",
              "  <svg xmlns=\"http://www.w3.org/2000/svg\" height=\"24px\" viewBox=\"0 -960 960 960\">\n",
              "    <path d=\"M120-120v-720h720v720H120Zm60-500h600v-160H180v160Zm220 220h160v-160H400v160Zm0 220h160v-160H400v160ZM180-400h160v-160H180v160Zm440 0h160v-160H620v160ZM180-180h160v-160H180v160Zm440 0h160v-160H620v160Z\"/>\n",
              "  </svg>\n",
              "    </button>\n",
              "\n",
              "  <style>\n",
              "    .colab-df-container {\n",
              "      display:flex;\n",
              "      gap: 12px;\n",
              "    }\n",
              "\n",
              "    .colab-df-convert {\n",
              "      background-color: #E8F0FE;\n",
              "      border: none;\n",
              "      border-radius: 50%;\n",
              "      cursor: pointer;\n",
              "      display: none;\n",
              "      fill: #1967D2;\n",
              "      height: 32px;\n",
              "      padding: 0 0 0 0;\n",
              "      width: 32px;\n",
              "    }\n",
              "\n",
              "    .colab-df-convert:hover {\n",
              "      background-color: #E2EBFA;\n",
              "      box-shadow: 0px 1px 2px rgba(60, 64, 67, 0.3), 0px 1px 3px 1px rgba(60, 64, 67, 0.15);\n",
              "      fill: #174EA6;\n",
              "    }\n",
              "\n",
              "    .colab-df-buttons div {\n",
              "      margin-bottom: 4px;\n",
              "    }\n",
              "\n",
              "    [theme=dark] .colab-df-convert {\n",
              "      background-color: #3B4455;\n",
              "      fill: #D2E3FC;\n",
              "    }\n",
              "\n",
              "    [theme=dark] .colab-df-convert:hover {\n",
              "      background-color: #434B5C;\n",
              "      box-shadow: 0px 1px 3px 1px rgba(0, 0, 0, 0.15);\n",
              "      filter: drop-shadow(0px 1px 2px rgba(0, 0, 0, 0.3));\n",
              "      fill: #FFFFFF;\n",
              "    }\n",
              "  </style>\n",
              "\n",
              "    <script>\n",
              "      const buttonEl =\n",
              "        document.querySelector('#df-cd9adc4d-680e-4d7e-8190-87314926476b button.colab-df-convert');\n",
              "      buttonEl.style.display =\n",
              "        google.colab.kernel.accessAllowed ? 'block' : 'none';\n",
              "\n",
              "      async function convertToInteractive(key) {\n",
              "        const element = document.querySelector('#df-cd9adc4d-680e-4d7e-8190-87314926476b');\n",
              "        const dataTable =\n",
              "          await google.colab.kernel.invokeFunction('convertToInteractive',\n",
              "                                                    [key], {});\n",
              "        if (!dataTable) return;\n",
              "\n",
              "        const docLinkHtml = 'Like what you see? Visit the ' +\n",
              "          '<a target=\"_blank\" href=https://colab.research.google.com/notebooks/data_table.ipynb>data table notebook</a>'\n",
              "          + ' to learn more about interactive tables.';\n",
              "        element.innerHTML = '';\n",
              "        dataTable['output_type'] = 'display_data';\n",
              "        await google.colab.output.renderOutput(dataTable, element);\n",
              "        const docLink = document.createElement('div');\n",
              "        docLink.innerHTML = docLinkHtml;\n",
              "        element.appendChild(docLink);\n",
              "      }\n",
              "    </script>\n",
              "  </div>\n",
              "\n",
              "\n",
              "<div id=\"df-7795c1fe-39b6-4fc4-a442-5456ede67263\">\n",
              "  <button class=\"colab-df-quickchart\" onclick=\"quickchart('df-7795c1fe-39b6-4fc4-a442-5456ede67263')\"\n",
              "            title=\"Suggest charts\"\n",
              "            style=\"display:none;\">\n",
              "\n",
              "<svg xmlns=\"http://www.w3.org/2000/svg\" height=\"24px\"viewBox=\"0 0 24 24\"\n",
              "     width=\"24px\">\n",
              "    <g>\n",
              "        <path d=\"M19 3H5c-1.1 0-2 .9-2 2v14c0 1.1.9 2 2 2h14c1.1 0 2-.9 2-2V5c0-1.1-.9-2-2-2zM9 17H7v-7h2v7zm4 0h-2V7h2v10zm4 0h-2v-4h2v4z\"/>\n",
              "    </g>\n",
              "</svg>\n",
              "  </button>\n",
              "\n",
              "<style>\n",
              "  .colab-df-quickchart {\n",
              "      --bg-color: #E8F0FE;\n",
              "      --fill-color: #1967D2;\n",
              "      --hover-bg-color: #E2EBFA;\n",
              "      --hover-fill-color: #174EA6;\n",
              "      --disabled-fill-color: #AAA;\n",
              "      --disabled-bg-color: #DDD;\n",
              "  }\n",
              "\n",
              "  [theme=dark] .colab-df-quickchart {\n",
              "      --bg-color: #3B4455;\n",
              "      --fill-color: #D2E3FC;\n",
              "      --hover-bg-color: #434B5C;\n",
              "      --hover-fill-color: #FFFFFF;\n",
              "      --disabled-bg-color: #3B4455;\n",
              "      --disabled-fill-color: #666;\n",
              "  }\n",
              "\n",
              "  .colab-df-quickchart {\n",
              "    background-color: var(--bg-color);\n",
              "    border: none;\n",
              "    border-radius: 50%;\n",
              "    cursor: pointer;\n",
              "    display: none;\n",
              "    fill: var(--fill-color);\n",
              "    height: 32px;\n",
              "    padding: 0;\n",
              "    width: 32px;\n",
              "  }\n",
              "\n",
              "  .colab-df-quickchart:hover {\n",
              "    background-color: var(--hover-bg-color);\n",
              "    box-shadow: 0 1px 2px rgba(60, 64, 67, 0.3), 0 1px 3px 1px rgba(60, 64, 67, 0.15);\n",
              "    fill: var(--button-hover-fill-color);\n",
              "  }\n",
              "\n",
              "  .colab-df-quickchart-complete:disabled,\n",
              "  .colab-df-quickchart-complete:disabled:hover {\n",
              "    background-color: var(--disabled-bg-color);\n",
              "    fill: var(--disabled-fill-color);\n",
              "    box-shadow: none;\n",
              "  }\n",
              "\n",
              "  .colab-df-spinner {\n",
              "    border: 2px solid var(--fill-color);\n",
              "    border-color: transparent;\n",
              "    border-bottom-color: var(--fill-color);\n",
              "    animation:\n",
              "      spin 1s steps(1) infinite;\n",
              "  }\n",
              "\n",
              "  @keyframes spin {\n",
              "    0% {\n",
              "      border-color: transparent;\n",
              "      border-bottom-color: var(--fill-color);\n",
              "      border-left-color: var(--fill-color);\n",
              "    }\n",
              "    20% {\n",
              "      border-color: transparent;\n",
              "      border-left-color: var(--fill-color);\n",
              "      border-top-color: var(--fill-color);\n",
              "    }\n",
              "    30% {\n",
              "      border-color: transparent;\n",
              "      border-left-color: var(--fill-color);\n",
              "      border-top-color: var(--fill-color);\n",
              "      border-right-color: var(--fill-color);\n",
              "    }\n",
              "    40% {\n",
              "      border-color: transparent;\n",
              "      border-right-color: var(--fill-color);\n",
              "      border-top-color: var(--fill-color);\n",
              "    }\n",
              "    60% {\n",
              "      border-color: transparent;\n",
              "      border-right-color: var(--fill-color);\n",
              "    }\n",
              "    80% {\n",
              "      border-color: transparent;\n",
              "      border-right-color: var(--fill-color);\n",
              "      border-bottom-color: var(--fill-color);\n",
              "    }\n",
              "    90% {\n",
              "      border-color: transparent;\n",
              "      border-bottom-color: var(--fill-color);\n",
              "    }\n",
              "  }\n",
              "</style>\n",
              "\n",
              "  <script>\n",
              "    async function quickchart(key) {\n",
              "      const quickchartButtonEl =\n",
              "        document.querySelector('#' + key + ' button');\n",
              "      quickchartButtonEl.disabled = true;  // To prevent multiple clicks.\n",
              "      quickchartButtonEl.classList.add('colab-df-spinner');\n",
              "      try {\n",
              "        const charts = await google.colab.kernel.invokeFunction(\n",
              "            'suggestCharts', [key], {});\n",
              "      } catch (error) {\n",
              "        console.error('Error during call to suggestCharts:', error);\n",
              "      }\n",
              "      quickchartButtonEl.classList.remove('colab-df-spinner');\n",
              "      quickchartButtonEl.classList.add('colab-df-quickchart-complete');\n",
              "    }\n",
              "    (() => {\n",
              "      let quickchartButtonEl =\n",
              "        document.querySelector('#df-7795c1fe-39b6-4fc4-a442-5456ede67263 button');\n",
              "      quickchartButtonEl.style.display =\n",
              "        google.colab.kernel.accessAllowed ? 'block' : 'none';\n",
              "    })();\n",
              "  </script>\n",
              "</div>\n",
              "    </div>\n",
              "  </div>\n"
            ],
            "application/vnd.google.colaboratory.intrinsic+json": {
              "type": "dataframe",
              "variable_name": "df",
              "summary": "{\n  \"name\": \"df\",\n  \"rows\": 53293,\n  \"fields\": [\n    {\n      \"column\": \"X\",\n      \"properties\": {\n        \"dtype\": \"number\",\n        \"std\": 21635,\n        \"min\": 23,\n        \"max\": 73932,\n        \"num_unique_values\": 53293,\n        \"samples\": [\n          60267,\n          64050,\n          66890\n        ],\n        \"semantic_type\": \"\",\n        \"description\": \"\"\n      }\n    },\n    {\n      \"column\": \"ID\",\n      \"properties\": {\n        \"dtype\": \"number\",\n        \"std\": 28230,\n        \"min\": 1,\n        \"max\": 92760,\n        \"num_unique_values\": 53293,\n        \"samples\": [\n          66616,\n          13899,\n          70122\n        ],\n        \"semantic_type\": \"\",\n        \"description\": \"\"\n      }\n    },\n    {\n      \"column\": \"y\",\n      \"properties\": {\n        \"dtype\": \"number\",\n        \"std\": 1208588,\n        \"min\": 2473441,\n        \"max\": 10140328,\n        \"num_unique_values\": 52226,\n        \"samples\": [\n          6499365,\n          6316849,\n          5682366\n        ],\n        \"semantic_type\": \"\",\n        \"description\": \"\"\n      }\n    },\n    {\n      \"column\": \"x\",\n      \"properties\": {\n        \"dtype\": \"number\",\n        \"std\": 566301,\n        \"min\": -3862125,\n        \"max\": 0,\n        \"num_unique_values\": 51861,\n        \"samples\": [\n          -1721974,\n          -2050354,\n          -1445386\n        ],\n        \"semantic_type\": \"\",\n        \"description\": \"\"\n      }\n    },\n    {\n      \"column\": \"Lat\",\n      \"properties\": {\n        \"dtype\": \"number\",\n        \"std\": 9.338218695698698,\n        \"min\": 15.7,\n        \"max\": 79.88,\n        \"num_unique_values\": 12634,\n        \"samples\": [\n          53.5722,\n          50.6879,\n          50.5436\n        ],\n        \"semantic_type\": \"\",\n        \"description\": \"\"\n      }\n    },\n    {\n      \"column\": \"Long\",\n      \"properties\": {\n        \"dtype\": \"number\",\n        \"std\": 9.782284692358253,\n        \"min\": -171.8,\n        \"max\": -95.0,\n        \"num_unique_values\": 13025,\n        \"samples\": [\n          -118.4456,\n          -108.81,\n          -107.45\n        ],\n        \"semantic_type\": \"\",\n        \"description\": \"\"\n      }\n    },\n    {\n      \"column\": \"Elev\",\n      \"properties\": {\n        \"dtype\": \"number\",\n        \"std\": 715,\n        \"min\": -75,\n        \"max\": 5558,\n        \"num_unique_values\": 3233,\n        \"samples\": [\n          1472,\n          600,\n          946\n        ],\n        \"semantic_type\": \"\",\n        \"description\": \"\"\n      }\n    },\n    {\n      \"column\": \"PRES\",\n      \"properties\": {\n        \"dtype\": \"number\",\n        \"std\": 0,\n        \"min\": 0,\n        \"max\": 1,\n        \"num_unique_values\": 2,\n        \"samples\": [\n          1,\n          0\n        ],\n        \"semantic_type\": \"\",\n        \"description\": \"\"\n      }\n    },\n    {\n      \"column\": \"MWMT\",\n      \"properties\": {\n        \"dtype\": \"number\",\n        \"std\": 5.331430650526507,\n        \"min\": -0.1,\n        \"max\": 37.9,\n        \"num_unique_values\": 347,\n        \"samples\": [\n          4.9,\n          22.9\n        ],\n        \"semantic_type\": \"\",\n        \"description\": \"\"\n      }\n    },\n    {\n      \"column\": \"MCMT\",\n      \"properties\": {\n        \"dtype\": \"number\",\n        \"std\": 8.541717682168489,\n        \"min\": -37.0,\n        \"max\": 27.5,\n        \"num_unique_values\": 637,\n        \"samples\": [\n          -23.0,\n          2.7\n        ],\n        \"semantic_type\": \"\",\n        \"description\": \"\"\n      }\n    },\n    {\n      \"column\": \"PPT_sm\",\n      \"properties\": {\n        \"dtype\": \"number\",\n        \"std\": 0.7892490716819919,\n        \"min\": 0.0,\n        \"max\": 7.64108424917491,\n        \"num_unique_values\": 1068,\n        \"samples\": [\n          6.31173480915291,\n          5.54517744447956\n        ],\n        \"semantic_type\": \"\",\n        \"description\": \"\"\n      }\n    },\n    {\n      \"column\": \"MDMP\",\n      \"properties\": {\n        \"dtype\": \"number\",\n        \"std\": 0.947441672617798,\n        \"min\": 0.0,\n        \"max\": 5.99645208861902,\n        \"num_unique_values\": 257,\n        \"samples\": [\n          4.68213122712422,\n          5.20948615284142\n        ],\n        \"semantic_type\": \"\",\n        \"description\": \"\"\n      }\n    },\n    {\n      \"column\": \"DD5\",\n      \"properties\": {\n        \"dtype\": \"number\",\n        \"std\": 0.695344755149561,\n        \"min\": 3.17805383034795,\n        \"max\": 9.06600800108626,\n        \"num_unique_values\": 6744,\n        \"samples\": [\n          8.68609172787805,\n          6.61873898351722\n        ],\n        \"semantic_type\": \"\",\n        \"description\": \"\"\n      }\n    },\n    {\n      \"column\": \"AHM\",\n      \"properties\": {\n        \"dtype\": \"number\",\n        \"std\": 43.978807444438104,\n        \"min\": -148.4,\n        \"max\": 686.8,\n        \"num_unique_values\": 2715,\n        \"samples\": [\n          288.6,\n          115.4\n        ],\n        \"semantic_type\": \"\",\n        \"description\": \"\"\n      }\n    },\n    {\n      \"column\": \"PC1\",\n      \"properties\": {\n        \"dtype\": \"number\",\n        \"std\": 1.9162213189698711,\n        \"min\": -12.05751,\n        \"max\": 7.17392,\n        \"num_unique_values\": 51099,\n        \"samples\": [\n          -0.68799,\n          -0.68942\n        ],\n        \"semantic_type\": \"\",\n        \"description\": \"\"\n      }\n    },\n    {\n      \"column\": \"PC2\",\n      \"properties\": {\n        \"dtype\": \"number\",\n        \"std\": 1.0793214376311027,\n        \"min\": -4.55692,\n        \"max\": 7.67965,\n        \"num_unique_values\": 48774,\n        \"samples\": [\n          -0.88352,\n          0.16695\n        ],\n        \"semantic_type\": \"\",\n        \"description\": \"\"\n      }\n    },\n    {\n      \"column\": \"PC3\",\n      \"properties\": {\n        \"dtype\": \"number\",\n        \"std\": 0.6817159852952744,\n        \"min\": -3.18632,\n        \"max\": 9.61253,\n        \"num_unique_values\": 46246,\n        \"samples\": [\n          -0.40133,\n          0.42512\n        ],\n        \"semantic_type\": \"\",\n        \"description\": \"\"\n      }\n    },\n    {\n      \"column\": \"PC4\",\n      \"properties\": {\n        \"dtype\": \"number\",\n        \"std\": 0.5950252585493513,\n        \"min\": -3.46113,\n        \"max\": 3.29539,\n        \"num_unique_values\": 44348,\n        \"samples\": [\n          0.45305,\n          -0.1732\n        ],\n        \"semantic_type\": \"\",\n        \"description\": \"\"\n      }\n    },\n    {\n      \"column\": \"PC5\",\n      \"properties\": {\n        \"dtype\": \"number\",\n        \"std\": 0.5361412826600319,\n        \"min\": -2.01957,\n        \"max\": 6.41485,\n        \"num_unique_values\": 45431,\n        \"samples\": [\n          -0.45744,\n          -0.03443\n        ],\n        \"semantic_type\": \"\",\n        \"description\": \"\"\n      }\n    },\n    {\n      \"column\": \"PC6\",\n      \"properties\": {\n        \"dtype\": \"number\",\n        \"std\": 0.19282762371881731,\n        \"min\": -0.82113,\n        \"max\": 2.04602,\n        \"num_unique_values\": 33409,\n        \"samples\": [\n          0.0615,\n          -0.06437\n        ],\n        \"semantic_type\": \"\",\n        \"description\": \"\"\n      }\n    }\n  ]\n}"
            }
          },
          "metadata": {},
          "execution_count": 123
        }
      ]
    },
    {
      "cell_type": "code",
      "source": [
        "df['y']"
      ],
      "metadata": {
        "colab": {
          "base_uri": "https://localhost:8080/"
        },
        "id": "GI62BLCW9uyd",
        "outputId": "477dbc30-ca75-4c68-ebe0-141d9445eab1"
      },
      "execution_count": null,
      "outputs": [
        {
          "output_type": "execute_result",
          "data": {
            "text/plain": [
              "33262    4\n",
              "37052    4\n",
              "27097    4\n",
              "18326    3\n",
              "2139     2\n",
              "        ..\n",
              "10575    3\n",
              "1253     2\n",
              "41057    4\n",
              "23497    4\n",
              "28113    4\n",
              "Name: y, Length: 53293, dtype: int64"
            ]
          },
          "metadata": {},
          "execution_count": 11
        }
      ]
    },
    {
      "cell_type": "code",
      "execution_count": null,
      "metadata": {
        "colab": {
          "base_uri": "https://localhost:8080/",
          "height": 466
        },
        "id": "h7RXxMs-R7ex",
        "outputId": "08b4089e-8f7e-4ea7-8c51-34d751e47afa"
      },
      "outputs": [
        {
          "output_type": "execute_result",
          "data": {
            "text/plain": [
              "<Axes: xlabel='Lat', ylabel='Long'>"
            ]
          },
          "metadata": {},
          "execution_count": 12
        },
        {
          "output_type": "display_data",
          "data": {
            "text/plain": [
              "<Figure size 640x480 with 1 Axes>"
            ],
            "image/png": "[encoded data removed]"
          },
          "metadata": {}
        }
      ],
      "source": [
        "custom_palette = [\"#FF6347\", \"#1E90FF\", \"#32CD32\", \"#FFD700\", \"#8A2BE2\", \"#FFA500\"]  # Example of 6 contrasting colors\n",
        "\n",
        "sns.scatterplot(data=df, x=\"Lat\", y=\"Long\", hue=\"y\", palette=custom_palette)\n"
      ]
    },
    {
      "cell_type": "code",
      "execution_count": null,
      "metadata": {
        "id": "e_fgr_p9fIgH"
      },
      "outputs": [],
      "source": []
    },
    {
      "cell_type": "code",
      "execution_count": null,
      "metadata": {
        "id": "D9YYNg4VSHO3"
      },
      "outputs": [],
      "source": []
    },
    {
      "cell_type": "code",
      "execution_count": null,
      "metadata": {
        "id": "BtrU542dfJLf"
      },
      "outputs": [],
      "source": []
    },
    {
      "cell_type": "code",
      "execution_count": null,
      "metadata": {
        "id": "LnhMhqCqfJ1z"
      },
      "outputs": [],
      "source": []
    },
    {
      "cell_type": "code",
      "execution_count": null,
      "metadata": {
        "id": "D3KKnjjioXsA"
      },
      "outputs": [],
      "source": [
        "data = df.drop(columns=['ID','X','y'])\n",
        "y = df['y']"
      ]
    },
    {
      "cell_type": "code",
      "execution_count": null,
      "metadata": {
        "id": "6qZi6SZ6fWwc"
      },
      "outputs": [],
      "source": [
        "from sklearn.model_selection import GridSearchCV, KFold\n",
        "from sklearn.ensemble import RandomForestClassifier\n",
        "\n",
        "def Hhyp (data, y, model , hyper_parameters, cross_validation_method=KFold, metric='accuracy'):\n",
        "    # Perform GridSearchCV with k-fold cross-validation\n",
        "    kf = cross_validation_method(n_splits=5, shuffle=True, random_state=42)\n",
        "\n",
        "    grid_search = GridSearchCV(estimator=model, param_grid=hyper_parameters, cv=kf, scoring=metric)\n",
        "\n",
        "    grid_search.fit(data, y)\n",
        "\n",
        "    # Get the best parameters and best score\n",
        "    best_params = grid_search.best_params_\n",
        "    best_score = grid_search.best_score_\n",
        "\n",
        "    return best_params, best_score\n",
        "\n",
        "    print(\"Best Parameters:\", best_params)\n",
        "    print(\"Best Score:\", best_score)\n",
        "\n",
        "\n",
        "\n"
      ]
    },
    {
      "cell_type": "code",
      "execution_count": null,
      "metadata": {
        "id": "pecfp1Pjohm7"
      },
      "outputs": [],
      "source": [
        "from sklearn.neighbors import KNeighborsClassifier\n",
        "from sklearn.svm import SVC\n"
      ]
    },
    {
      "cell_type": "code",
      "execution_count": null,
      "metadata": {
        "id": "Q42xbl_3ojvu"
      },
      "outputs": [],
      "source": [
        "clf = RandomForestClassifier()\n",
        "param_grid = {\n",
        "    'n_estimators': [100, 200, 300],\n",
        "    'max_depth': [10, 20],\n",
        "    #'min_samples_split': [2, 5, 10],\n",
        "    #'min_samples_leaf': [1, 2, 4],\n",
        "}"
      ]
    },
    {
      "cell_type": "code",
      "execution_count": null,
      "metadata": {
        "colab": {
          "base_uri": "https://localhost:8080/"
        },
        "id": "CQO-tJ17ooni",
        "outputId": "56553bd2-87a1-4d68-acbd-975d2eeba8f6"
      },
      "outputs": [
        {
          "output_type": "execute_result",
          "data": {
            "text/plain": [
              "({'max_depth': 20, 'n_estimators': 200}, 0.97)"
            ]
          },
          "metadata": {},
          "execution_count": 59
        }
      ],
      "source": [
        "Hhyp(data[:1000], y[:1000], clf, hyper_parameters=param_grid )"
      ]
    },
    {
      "cell_type": "code",
      "source": [
        "clf = SVC()\n",
        "param_grid = {\n",
        "    'kernel': ['poly', 'rbf'],\n",
        "    'degree': [2, 3],\n",
        "    #'min_samples_split': [2, 5, 10],\n",
        "    #'min_samples_leaf': [1, 2, 4],\n",
        "}"
      ],
      "metadata": {
        "id": "mHVjYFiTUf7l"
      },
      "execution_count": null,
      "outputs": []
    },
    {
      "cell_type": "code",
      "source": [
        "from sklearn.model_selection import GridSearchCV, KFold\n",
        "from sklearn.ensemble import RandomForestClassifier\n",
        "\n",
        "def Hhyp (data, y, model , hyper_parameters, cross_validation_method=KFold, metric='accuracy'):\n",
        "    # Perform GridSearchCV with k-fold cross-validation\n",
        "    kf = cross_validation_method(n_splits=5, shuffle=True, random_state=42)\n",
        "\n",
        "    grid_search = GridSearchCV(estimator=model, param_grid=hyper_parameters, cv=kf, scoring=metric)\n",
        "\n",
        "    grid_search.fit(data, y)\n",
        "\n",
        "    # Get the best parameters and best score\n",
        "    best_params = grid_search.best_params_\n",
        "    best_score = grid_search.best_score_\n",
        "\n",
        "    return best_params, best_score\n",
        "\n",
        "    print(\"Best Parameters:\", best_params)\n",
        "    print(\"Best Score:\", best_score)\n",
        "\n",
        "\n",
        "\n"
      ],
      "metadata": {
        "id": "GfHjA0lWU2gV"
      },
      "execution_count": null,
      "outputs": []
    },
    {
      "cell_type": "code",
      "source": [
        "Hhyp(data[:2000], y[:2000], clf, hyper_parameters=param_grid )"
      ],
      "metadata": {
        "colab": {
          "base_uri": "https://localhost:8080/"
        },
        "id": "0fMNVOdWU5YN",
        "outputId": "c3d65524-fc7c-4817-9415-dc8769964a85"
      },
      "execution_count": null,
      "outputs": [
        {
          "output_type": "execute_result",
          "data": {
            "text/plain": [
              "({'degree': 2, 'kernel': 'rbf'}, 0.5764999999999999)"
            ]
          },
          "metadata": {},
          "execution_count": 63
        }
      ]
    },
    {
      "cell_type": "code",
      "execution_count": null,
      "metadata": {
        "colab": {
          "base_uri": "https://localhost:8080/",
          "height": 141
        },
        "id": "vzO13gMcopbx",
        "outputId": "fa121f4e-1ca7-40f8-843b-756a20fb9400"
      },
      "outputs": [
        {
          "output_type": "error",
          "ename": "NameError",
          "evalue": "name 'best_score' is not defined",
          "traceback": [
            "\u001b[0;31m---------------------------------------------------------------------------\u001b[0m",
            "\u001b[0;31mNameError\u001b[0m                                 Traceback (most recent call last)",
            "\u001b[0;32m<ipython-input-64-ec26aef7a310>\u001b[0m in \u001b[0;36m<cell line: 1>\u001b[0;34m()\u001b[0m\n\u001b[0;32m----> 1\u001b[0;31m \u001b[0mbest_score\u001b[0m\u001b[0;34m\u001b[0m\u001b[0;34m\u001b[0m\u001b[0m\n\u001b[0m",
            "\u001b[0;31mNameError\u001b[0m: name 'best_score' is not defined"
          ]
        }
      ],
      "source": [
        "best_score"
      ]
    },
    {
      "cell_type": "code",
      "execution_count": null,
      "metadata": {
        "id": "sEWdr5W9o7Mt",
        "colab": {
          "base_uri": "https://localhost:8080/",
          "height": 314
        },
        "outputId": "2883cfcd-991c-470e-ce5d-3baeaaf2cf26"
      },
      "outputs": [
        {
          "output_type": "error",
          "ename": "ModuleNotFoundError",
          "evalue": "No module named 'spacv'",
          "traceback": [
            "\u001b[0;31m---------------------------------------------------------------------------\u001b[0m",
            "\u001b[0;31mModuleNotFoundError\u001b[0m                       Traceback (most recent call last)",
            "\u001b[0;32m<ipython-input-19-3be036ff0f77>\u001b[0m in \u001b[0;36m<cell line: 1>\u001b[0;34m()\u001b[0m\n\u001b[0;32m----> 1\u001b[0;31m \u001b[0;32mimport\u001b[0m \u001b[0mspacv\u001b[0m\u001b[0;34m\u001b[0m\u001b[0;34m\u001b[0m\u001b[0m\n\u001b[0m",
            "\u001b[0;31mModuleNotFoundError\u001b[0m: No module named 'spacv'",
            "",
            "\u001b[0;31m---------------------------------------------------------------------------\u001b[0;32m\nNOTE: If your import is failing due to a missing package, you can\nmanually install dependencies using either !pip or !apt.\n\nTo view examples of installing some common dependencies, click the\n\"Open Examples\" button below.\n\u001b[0;31m---------------------------------------------------------------------------\u001b[0m\n"
          ],
          "errorDetails": {
            "actions": [
              {
                "action": "open_url",
                "actionText": "Open Examples",
                "url": "/notebooks/snippets/importing_libraries.ipynb"
              }
            ]
          }
        }
      ],
      "source": [
        "import spacv"
      ]
    },
    {
      "cell_type": "code",
      "source": [
        "! pip install spacv"
      ],
      "metadata": {
        "colab": {
          "base_uri": "https://localhost:8080/"
        },
        "id": "-ctvvbANHPfT",
        "outputId": "8086b433-ad40-4df0-e880-b38cfdedd626"
      },
      "execution_count": null,
      "outputs": [
        {
          "output_type": "stream",
          "name": "stdout",
          "text": [
            "Collecting spacv\n",
            "  Downloading spacv-0.0.22-py3-none-any.whl (15 kB)\n",
            "Requirement already satisfied: numpy in /usr/local/lib/python3.10/dist-packages (from spacv) (1.25.2)\n",
            "Requirement already satisfied: matplotlib in /usr/local/lib/python3.10/dist-packages (from spacv) (3.7.1)\n",
            "Requirement already satisfied: pandas in /usr/local/lib/python3.10/dist-packages (from spacv) (1.5.3)\n",
            "Requirement already satisfied: geopandas in /usr/local/lib/python3.10/dist-packages (from spacv) (0.13.2)\n",
            "Requirement already satisfied: shapely in /usr/local/lib/python3.10/dist-packages (from spacv) (2.0.3)\n",
            "Requirement already satisfied: scikit-learn in /usr/local/lib/python3.10/dist-packages (from spacv) (1.2.2)\n",
            "Requirement already satisfied: scipy in /usr/local/lib/python3.10/dist-packages (from spacv) (1.11.4)\n",
            "Collecting pygeos (from spacv)\n",
            "  Downloading pygeos-0.14-cp310-cp310-manylinux_2_17_x86_64.manylinux2014_x86_64.whl (2.2 MB)\n",
            "\u001b[2K     \u001b[90m━━━━━━━━━━━━━━━━━━━━━━━━━━━━━━━━━━━━━━━━\u001b[0m \u001b[32m2.2/2.2 MB\u001b[0m \u001b[31m21.7 MB/s\u001b[0m eta \u001b[36m0:00:00\u001b[0m\n",
            "\u001b[?25hRequirement already satisfied: fiona>=1.8.19 in /usr/local/lib/python3.10/dist-packages (from geopandas->spacv) (1.9.5)\n",
            "Requirement already satisfied: packaging in /usr/local/lib/python3.10/dist-packages (from geopandas->spacv) (23.2)\n",
            "Requirement already satisfied: pyproj>=3.0.1 in /usr/local/lib/python3.10/dist-packages (from geopandas->spacv) (3.6.1)\n",
            "Requirement already satisfied: python-dateutil>=2.8.1 in /usr/local/lib/python3.10/dist-packages (from pandas->spacv) (2.8.2)\n",
            "Requirement already satisfied: pytz>=2020.1 in /usr/local/lib/python3.10/dist-packages (from pandas->spacv) (2023.4)\n",
            "Requirement already satisfied: contourpy>=1.0.1 in /usr/local/lib/python3.10/dist-packages (from matplotlib->spacv) (1.2.0)\n",
            "Requirement already satisfied: cycler>=0.10 in /usr/local/lib/python3.10/dist-packages (from matplotlib->spacv) (0.12.1)\n",
            "Requirement already satisfied: fonttools>=4.22.0 in /usr/local/lib/python3.10/dist-packages (from matplotlib->spacv) (4.49.0)\n",
            "Requirement already satisfied: kiwisolver>=1.0.1 in /usr/local/lib/python3.10/dist-packages (from matplotlib->spacv) (1.4.5)\n",
            "Requirement already satisfied: pillow>=6.2.0 in /usr/local/lib/python3.10/dist-packages (from matplotlib->spacv) (9.4.0)\n",
            "Requirement already satisfied: pyparsing>=2.3.1 in /usr/local/lib/python3.10/dist-packages (from matplotlib->spacv) (3.1.2)\n",
            "Requirement already satisfied: joblib>=1.1.1 in /usr/local/lib/python3.10/dist-packages (from scikit-learn->spacv) (1.3.2)\n",
            "Requirement already satisfied: threadpoolctl>=2.0.0 in /usr/local/lib/python3.10/dist-packages (from scikit-learn->spacv) (3.3.0)\n",
            "Requirement already satisfied: attrs>=19.2.0 in /usr/local/lib/python3.10/dist-packages (from fiona>=1.8.19->geopandas->spacv) (23.2.0)\n",
            "Requirement already satisfied: certifi in /usr/local/lib/python3.10/dist-packages (from fiona>=1.8.19->geopandas->spacv) (2024.2.2)\n",
            "Requirement already satisfied: click~=8.0 in /usr/local/lib/python3.10/dist-packages (from fiona>=1.8.19->geopandas->spacv) (8.1.7)\n",
            "Requirement already satisfied: click-plugins>=1.0 in /usr/local/lib/python3.10/dist-packages (from fiona>=1.8.19->geopandas->spacv) (1.1.1)\n",
            "Requirement already satisfied: cligj>=0.5 in /usr/local/lib/python3.10/dist-packages (from fiona>=1.8.19->geopandas->spacv) (0.7.2)\n",
            "Requirement already satisfied: six in /usr/local/lib/python3.10/dist-packages (from fiona>=1.8.19->geopandas->spacv) (1.16.0)\n",
            "Requirement already satisfied: setuptools in /usr/local/lib/python3.10/dist-packages (from fiona>=1.8.19->geopandas->spacv) (67.7.2)\n",
            "Installing collected packages: pygeos, spacv\n",
            "Successfully installed pygeos-0.14 spacv-0.0.22\n"
          ]
        }
      ]
    },
    {
      "cell_type": "code",
      "source": [
        "import spacv"
      ],
      "metadata": {
        "colab": {
          "base_uri": "https://localhost:8080/",
          "height": 531
        },
        "id": "7AQzw_ubHSFu",
        "outputId": "c8197725-d7e6-4322-cc89-59940b0ff253"
      },
      "execution_count": null,
      "outputs": [
        {
          "output_type": "stream",
          "name": "stderr",
          "text": [
            "/usr/local/lib/python3.10/dist-packages/geopandas/_compat.py:124: UserWarning: The Shapely GEOS version (3.11.3-CAPI-1.17.3) is incompatible with the GEOS version PyGEOS was compiled with (3.10.4-CAPI-1.16.2). Conversions between both will be slow.\n",
            "  warnings.warn(\n"
          ]
        },
        {
          "output_type": "error",
          "ename": "ImportError",
          "evalue": "cannot import name 'asPolygon' from 'shapely.geometry' (/usr/local/lib/python3.10/dist-packages/shapely/geometry/__init__.py)",
          "traceback": [
            "\u001b[0;31m---------------------------------------------------------------------------\u001b[0m",
            "\u001b[0;31mImportError\u001b[0m                               Traceback (most recent call last)",
            "\u001b[0;32m<ipython-input-21-3be036ff0f77>\u001b[0m in \u001b[0;36m<cell line: 1>\u001b[0;34m()\u001b[0m\n\u001b[0;32m----> 1\u001b[0;31m \u001b[0;32mimport\u001b[0m \u001b[0mspacv\u001b[0m\u001b[0;34m\u001b[0m\u001b[0;34m\u001b[0m\u001b[0m\n\u001b[0m",
            "\u001b[0;32m/usr/local/lib/python3.10/dist-packages/spacv/__init__.py\u001b[0m in \u001b[0;36m<module>\u001b[0;34m\u001b[0m\n\u001b[1;32m      3\u001b[0m \"\"\"\n\u001b[1;32m      4\u001b[0m \u001b[0;34m\u001b[0m\u001b[0m\n\u001b[0;32m----> 5\u001b[0;31m \u001b[0;32mfrom\u001b[0m \u001b[0;34m.\u001b[0m\u001b[0mspacv\u001b[0m \u001b[0;32mimport\u001b[0m \u001b[0;34m*\u001b[0m\u001b[0;34m\u001b[0m\u001b[0;34m\u001b[0m\u001b[0m\n\u001b[0m\u001b[1;32m      6\u001b[0m \u001b[0;34m\u001b[0m\u001b[0m\n\u001b[1;32m      7\u001b[0m \u001b[0m__version__\u001b[0m \u001b[0;34m=\u001b[0m \u001b[0;34m\"0.0.22\"\u001b[0m\u001b[0;34m\u001b[0m\u001b[0;34m\u001b[0m\u001b[0m\n",
            "\u001b[0;32m/usr/local/lib/python3.10/dist-packages/spacv/spacv.py\u001b[0m in \u001b[0;36m<module>\u001b[0;34m\u001b[0m\n\u001b[1;32m      5\u001b[0m \u001b[0;32mfrom\u001b[0m \u001b[0msklearn\u001b[0m\u001b[0;34m.\u001b[0m\u001b[0mcluster\u001b[0m \u001b[0;32mimport\u001b[0m \u001b[0mMiniBatchKMeans\u001b[0m\u001b[0;34m\u001b[0m\u001b[0;34m\u001b[0m\u001b[0m\n\u001b[1;32m      6\u001b[0m \u001b[0;32mfrom\u001b[0m \u001b[0;34m.\u001b[0m\u001b[0mbase_classes\u001b[0m \u001b[0;32mimport\u001b[0m \u001b[0mBaseSpatialCV\u001b[0m\u001b[0;34m\u001b[0m\u001b[0;34m\u001b[0m\u001b[0m\n\u001b[0;32m----> 7\u001b[0;31m \u001b[0;32mfrom\u001b[0m \u001b[0;34m.\u001b[0m\u001b[0mgrid_builder\u001b[0m \u001b[0;32mimport\u001b[0m \u001b[0mconstruct_blocks\u001b[0m\u001b[0;34m,\u001b[0m \u001b[0massign_pt_to_grid\u001b[0m\u001b[0;34m\u001b[0m\u001b[0;34m\u001b[0m\u001b[0m\n\u001b[0m\u001b[1;32m      8\u001b[0m \u001b[0;32mfrom\u001b[0m \u001b[0;34m.\u001b[0m\u001b[0mutils\u001b[0m \u001b[0;32mimport\u001b[0m \u001b[0mgeometry_to_2d\u001b[0m\u001b[0;34m,\u001b[0m \u001b[0mconvert_geodataframe\u001b[0m\u001b[0;34m,\u001b[0m \u001b[0mload_custom_polygon\u001b[0m\u001b[0;34m\u001b[0m\u001b[0;34m\u001b[0m\u001b[0m\n\u001b[1;32m      9\u001b[0m \u001b[0;34m\u001b[0m\u001b[0m\n",
            "\u001b[0;32m/usr/local/lib/python3.10/dist-packages/spacv/grid_builder.py\u001b[0m in \u001b[0;36m<module>\u001b[0;34m\u001b[0m\n\u001b[1;32m      1\u001b[0m \u001b[0;32mimport\u001b[0m \u001b[0mnumpy\u001b[0m \u001b[0;32mas\u001b[0m \u001b[0mnp\u001b[0m\u001b[0;34m\u001b[0m\u001b[0;34m\u001b[0m\u001b[0m\n\u001b[1;32m      2\u001b[0m \u001b[0;32mimport\u001b[0m \u001b[0mgeopandas\u001b[0m \u001b[0;32mas\u001b[0m \u001b[0mgpd\u001b[0m\u001b[0;34m\u001b[0m\u001b[0;34m\u001b[0m\u001b[0m\n\u001b[0;32m----> 3\u001b[0;31m \u001b[0;32mfrom\u001b[0m \u001b[0mshapely\u001b[0m\u001b[0;34m.\u001b[0m\u001b[0mgeometry\u001b[0m \u001b[0;32mimport\u001b[0m \u001b[0mPolygon\u001b[0m\u001b[0;34m,\u001b[0m \u001b[0masPolygon\u001b[0m\u001b[0;34m\u001b[0m\u001b[0;34m\u001b[0m\u001b[0m\n\u001b[0m\u001b[1;32m      4\u001b[0m \u001b[0;32mfrom\u001b[0m \u001b[0mmatplotlib\u001b[0m\u001b[0;34m.\u001b[0m\u001b[0mcollections\u001b[0m \u001b[0;32mimport\u001b[0m \u001b[0mPolyCollection\u001b[0m\u001b[0;34m\u001b[0m\u001b[0;34m\u001b[0m\u001b[0m\n\u001b[1;32m      5\u001b[0m \u001b[0;32mfrom\u001b[0m \u001b[0msklearn\u001b[0m\u001b[0;34m.\u001b[0m\u001b[0mneighbors\u001b[0m \u001b[0;32mimport\u001b[0m \u001b[0mBallTree\u001b[0m\u001b[0;34m\u001b[0m\u001b[0;34m\u001b[0m\u001b[0m\n",
            "\u001b[0;31mImportError\u001b[0m: cannot import name 'asPolygon' from 'shapely.geometry' (/usr/local/lib/python3.10/dist-packages/shapely/geometry/__init__.py)",
            "",
            "\u001b[0;31m---------------------------------------------------------------------------\u001b[0;32m\nNOTE: If your import is failing due to a missing package, you can\nmanually install dependencies using either !pip or !apt.\n\nTo view examples of installing some common dependencies, click the\n\"Open Examples\" button below.\n\u001b[0;31m---------------------------------------------------------------------------\u001b[0m\n"
          ],
          "errorDetails": {
            "actions": [
              {
                "action": "open_url",
                "actionText": "Open Examples",
                "url": "/notebooks/snippets/importing_libraries.ipynb"
              }
            ]
          }
        }
      ]
    },
    {
      "cell_type": "code",
      "source": [
        "! pip install spacv"
      ],
      "metadata": {
        "colab": {
          "base_uri": "https://localhost:8080/"
        },
        "id": "fHVXxmRXHX3o",
        "outputId": "889db8ea-98b3-4234-9676-c93ce7a0596c"
      },
      "execution_count": null,
      "outputs": [
        {
          "output_type": "stream",
          "name": "stdout",
          "text": [
            "Requirement already satisfied: spacv in /usr/local/lib/python3.10/dist-packages (0.0.22)\n",
            "Requirement already satisfied: numpy in /usr/local/lib/python3.10/dist-packages (from spacv) (1.25.2)\n",
            "Requirement already satisfied: matplotlib in /usr/local/lib/python3.10/dist-packages (from spacv) (3.7.1)\n",
            "Requirement already satisfied: pandas in /usr/local/lib/python3.10/dist-packages (from spacv) (1.5.3)\n",
            "Requirement already satisfied: geopandas in /usr/local/lib/python3.10/dist-packages (from spacv) (0.13.2)\n",
            "Requirement already satisfied: shapely in /usr/local/lib/python3.10/dist-packages (from spacv) (2.0.3)\n",
            "Requirement already satisfied: scikit-learn in /usr/local/lib/python3.10/dist-packages (from spacv) (1.2.2)\n",
            "Requirement already satisfied: scipy in /usr/local/lib/python3.10/dist-packages (from spacv) (1.11.4)\n",
            "Requirement already satisfied: pygeos in /usr/local/lib/python3.10/dist-packages (from spacv) (0.14)\n",
            "Requirement already satisfied: fiona>=1.8.19 in /usr/local/lib/python3.10/dist-packages (from geopandas->spacv) (1.9.5)\n",
            "Requirement already satisfied: packaging in /usr/local/lib/python3.10/dist-packages (from geopandas->spacv) (23.2)\n",
            "Requirement already satisfied: pyproj>=3.0.1 in /usr/local/lib/python3.10/dist-packages (from geopandas->spacv) (3.6.1)\n",
            "Requirement already satisfied: python-dateutil>=2.8.1 in /usr/local/lib/python3.10/dist-packages (from pandas->spacv) (2.8.2)\n",
            "Requirement already satisfied: pytz>=2020.1 in /usr/local/lib/python3.10/dist-packages (from pandas->spacv) (2023.4)\n",
            "Requirement already satisfied: contourpy>=1.0.1 in /usr/local/lib/python3.10/dist-packages (from matplotlib->spacv) (1.2.0)\n",
            "Requirement already satisfied: cycler>=0.10 in /usr/local/lib/python3.10/dist-packages (from matplotlib->spacv) (0.12.1)\n",
            "Requirement already satisfied: fonttools>=4.22.0 in /usr/local/lib/python3.10/dist-packages (from matplotlib->spacv) (4.49.0)\n",
            "Requirement already satisfied: kiwisolver>=1.0.1 in /usr/local/lib/python3.10/dist-packages (from matplotlib->spacv) (1.4.5)\n",
            "Requirement already satisfied: pillow>=6.2.0 in /usr/local/lib/python3.10/dist-packages (from matplotlib->spacv) (9.4.0)\n",
            "Requirement already satisfied: pyparsing>=2.3.1 in /usr/local/lib/python3.10/dist-packages (from matplotlib->spacv) (3.1.2)\n",
            "Requirement already satisfied: joblib>=1.1.1 in /usr/local/lib/python3.10/dist-packages (from scikit-learn->spacv) (1.3.2)\n",
            "Requirement already satisfied: threadpoolctl>=2.0.0 in /usr/local/lib/python3.10/dist-packages (from scikit-learn->spacv) (3.3.0)\n",
            "Requirement already satisfied: attrs>=19.2.0 in /usr/local/lib/python3.10/dist-packages (from fiona>=1.8.19->geopandas->spacv) (23.2.0)\n",
            "Requirement already satisfied: certifi in /usr/local/lib/python3.10/dist-packages (from fiona>=1.8.19->geopandas->spacv) (2024.2.2)\n",
            "Requirement already satisfied: click~=8.0 in /usr/local/lib/python3.10/dist-packages (from fiona>=1.8.19->geopandas->spacv) (8.1.7)\n",
            "Requirement already satisfied: click-plugins>=1.0 in /usr/local/lib/python3.10/dist-packages (from fiona>=1.8.19->geopandas->spacv) (1.1.1)\n",
            "Requirement already satisfied: cligj>=0.5 in /usr/local/lib/python3.10/dist-packages (from fiona>=1.8.19->geopandas->spacv) (0.7.2)\n",
            "Requirement already satisfied: six in /usr/local/lib/python3.10/dist-packages (from fiona>=1.8.19->geopandas->spacv) (1.16.0)\n",
            "Requirement already satisfied: setuptools in /usr/local/lib/python3.10/dist-packages (from fiona>=1.8.19->geopandas->spacv) (67.7.2)\n"
          ]
        }
      ]
    },
    {
      "cell_type": "code",
      "source": [
        "import spacv"
      ],
      "metadata": {
        "colab": {
          "base_uri": "https://localhost:8080/",
          "height": 477
        },
        "id": "WzOf8NiKHizw",
        "outputId": "e354b505-6584-4b0a-9f52-f3fe4d2a038e"
      },
      "execution_count": null,
      "outputs": [
        {
          "output_type": "error",
          "ename": "ImportError",
          "evalue": "cannot import name 'asPolygon' from 'shapely.geometry' (/usr/local/lib/python3.10/dist-packages/shapely/geometry/__init__.py)",
          "traceback": [
            "\u001b[0;31m---------------------------------------------------------------------------\u001b[0m",
            "\u001b[0;31mImportError\u001b[0m                               Traceback (most recent call last)",
            "\u001b[0;32m<ipython-input-23-3be036ff0f77>\u001b[0m in \u001b[0;36m<cell line: 1>\u001b[0;34m()\u001b[0m\n\u001b[0;32m----> 1\u001b[0;31m \u001b[0;32mimport\u001b[0m \u001b[0mspacv\u001b[0m\u001b[0;34m\u001b[0m\u001b[0;34m\u001b[0m\u001b[0m\n\u001b[0m",
            "\u001b[0;32m/usr/local/lib/python3.10/dist-packages/spacv/__init__.py\u001b[0m in \u001b[0;36m<module>\u001b[0;34m\u001b[0m\n\u001b[1;32m      3\u001b[0m \"\"\"\n\u001b[1;32m      4\u001b[0m \u001b[0;34m\u001b[0m\u001b[0m\n\u001b[0;32m----> 5\u001b[0;31m \u001b[0;32mfrom\u001b[0m \u001b[0;34m.\u001b[0m\u001b[0mspacv\u001b[0m \u001b[0;32mimport\u001b[0m \u001b[0;34m*\u001b[0m\u001b[0;34m\u001b[0m\u001b[0;34m\u001b[0m\u001b[0m\n\u001b[0m\u001b[1;32m      6\u001b[0m \u001b[0;34m\u001b[0m\u001b[0m\n\u001b[1;32m      7\u001b[0m \u001b[0m__version__\u001b[0m \u001b[0;34m=\u001b[0m \u001b[0;34m\"0.0.22\"\u001b[0m\u001b[0;34m\u001b[0m\u001b[0;34m\u001b[0m\u001b[0m\n",
            "\u001b[0;32m/usr/local/lib/python3.10/dist-packages/spacv/spacv.py\u001b[0m in \u001b[0;36m<module>\u001b[0;34m\u001b[0m\n\u001b[1;32m      5\u001b[0m \u001b[0;32mfrom\u001b[0m \u001b[0msklearn\u001b[0m\u001b[0;34m.\u001b[0m\u001b[0mcluster\u001b[0m \u001b[0;32mimport\u001b[0m \u001b[0mMiniBatchKMeans\u001b[0m\u001b[0;34m\u001b[0m\u001b[0;34m\u001b[0m\u001b[0m\n\u001b[1;32m      6\u001b[0m \u001b[0;32mfrom\u001b[0m \u001b[0;34m.\u001b[0m\u001b[0mbase_classes\u001b[0m \u001b[0;32mimport\u001b[0m \u001b[0mBaseSpatialCV\u001b[0m\u001b[0;34m\u001b[0m\u001b[0;34m\u001b[0m\u001b[0m\n\u001b[0;32m----> 7\u001b[0;31m \u001b[0;32mfrom\u001b[0m \u001b[0;34m.\u001b[0m\u001b[0mgrid_builder\u001b[0m \u001b[0;32mimport\u001b[0m \u001b[0mconstruct_blocks\u001b[0m\u001b[0;34m,\u001b[0m \u001b[0massign_pt_to_grid\u001b[0m\u001b[0;34m\u001b[0m\u001b[0;34m\u001b[0m\u001b[0m\n\u001b[0m\u001b[1;32m      8\u001b[0m \u001b[0;32mfrom\u001b[0m \u001b[0;34m.\u001b[0m\u001b[0mutils\u001b[0m \u001b[0;32mimport\u001b[0m \u001b[0mgeometry_to_2d\u001b[0m\u001b[0;34m,\u001b[0m \u001b[0mconvert_geodataframe\u001b[0m\u001b[0;34m,\u001b[0m \u001b[0mload_custom_polygon\u001b[0m\u001b[0;34m\u001b[0m\u001b[0;34m\u001b[0m\u001b[0m\n\u001b[1;32m      9\u001b[0m \u001b[0;34m\u001b[0m\u001b[0m\n",
            "\u001b[0;32m/usr/local/lib/python3.10/dist-packages/spacv/grid_builder.py\u001b[0m in \u001b[0;36m<module>\u001b[0;34m\u001b[0m\n\u001b[1;32m      1\u001b[0m \u001b[0;32mimport\u001b[0m \u001b[0mnumpy\u001b[0m \u001b[0;32mas\u001b[0m \u001b[0mnp\u001b[0m\u001b[0;34m\u001b[0m\u001b[0;34m\u001b[0m\u001b[0m\n\u001b[1;32m      2\u001b[0m \u001b[0;32mimport\u001b[0m \u001b[0mgeopandas\u001b[0m \u001b[0;32mas\u001b[0m \u001b[0mgpd\u001b[0m\u001b[0;34m\u001b[0m\u001b[0;34m\u001b[0m\u001b[0m\n\u001b[0;32m----> 3\u001b[0;31m \u001b[0;32mfrom\u001b[0m \u001b[0mshapely\u001b[0m\u001b[0;34m.\u001b[0m\u001b[0mgeometry\u001b[0m \u001b[0;32mimport\u001b[0m \u001b[0mPolygon\u001b[0m\u001b[0;34m,\u001b[0m \u001b[0masPolygon\u001b[0m\u001b[0;34m\u001b[0m\u001b[0;34m\u001b[0m\u001b[0m\n\u001b[0m\u001b[1;32m      4\u001b[0m \u001b[0;32mfrom\u001b[0m \u001b[0mmatplotlib\u001b[0m\u001b[0;34m.\u001b[0m\u001b[0mcollections\u001b[0m \u001b[0;32mimport\u001b[0m \u001b[0mPolyCollection\u001b[0m\u001b[0;34m\u001b[0m\u001b[0;34m\u001b[0m\u001b[0m\n\u001b[1;32m      5\u001b[0m \u001b[0;32mfrom\u001b[0m \u001b[0msklearn\u001b[0m\u001b[0;34m.\u001b[0m\u001b[0mneighbors\u001b[0m \u001b[0;32mimport\u001b[0m \u001b[0mBallTree\u001b[0m\u001b[0;34m\u001b[0m\u001b[0;34m\u001b[0m\u001b[0m\n",
            "\u001b[0;31mImportError\u001b[0m: cannot import name 'asPolygon' from 'shapely.geometry' (/usr/local/lib/python3.10/dist-packages/shapely/geometry/__init__.py)",
            "",
            "\u001b[0;31m---------------------------------------------------------------------------\u001b[0;32m\nNOTE: If your import is failing due to a missing package, you can\nmanually install dependencies using either !pip or !apt.\n\nTo view examples of installing some common dependencies, click the\n\"Open Examples\" button below.\n\u001b[0;31m---------------------------------------------------------------------------\u001b[0m\n"
          ],
          "errorDetails": {
            "actions": [
              {
                "action": "open_url",
                "actionText": "Open Examples",
                "url": "/notebooks/snippets/importing_libraries.ipynb"
              }
            ]
          }
        }
      ]
    },
    {
      "cell_type": "code",
      "source": [
        "from shapely.geometry import Polygon,asPolygon\n",
        "import spacv"
      ],
      "metadata": {
        "colab": {
          "base_uri": "https://localhost:8080/",
          "height": 349
        },
        "id": "guoSvxKSHn0N",
        "outputId": "13ee29a9-60b0-4a4a-f9d7-b29d99e03265"
      },
      "execution_count": null,
      "outputs": [
        {
          "output_type": "error",
          "ename": "ImportError",
          "evalue": "cannot import name 'asPolygon' from 'shapely.geometry' (/usr/local/lib/python3.10/dist-packages/shapely/geometry/__init__.py)",
          "traceback": [
            "\u001b[0;31m---------------------------------------------------------------------------\u001b[0m",
            "\u001b[0;31mImportError\u001b[0m                               Traceback (most recent call last)",
            "\u001b[0;32m<ipython-input-26-7b07a05387da>\u001b[0m in \u001b[0;36m<cell line: 1>\u001b[0;34m()\u001b[0m\n\u001b[0;32m----> 1\u001b[0;31m \u001b[0;32mfrom\u001b[0m \u001b[0mshapely\u001b[0m\u001b[0;34m.\u001b[0m\u001b[0mgeometry\u001b[0m \u001b[0;32mimport\u001b[0m \u001b[0mPolygon\u001b[0m\u001b[0;34m,\u001b[0m\u001b[0masPolygon\u001b[0m\u001b[0;34m\u001b[0m\u001b[0;34m\u001b[0m\u001b[0m\n\u001b[0m\u001b[1;32m      2\u001b[0m \u001b[0;32mimport\u001b[0m \u001b[0mspacv\u001b[0m\u001b[0;34m\u001b[0m\u001b[0;34m\u001b[0m\u001b[0m\n",
            "\u001b[0;31mImportError\u001b[0m: cannot import name 'asPolygon' from 'shapely.geometry' (/usr/local/lib/python3.10/dist-packages/shapely/geometry/__init__.py)",
            "",
            "\u001b[0;31m---------------------------------------------------------------------------\u001b[0;32m\nNOTE: If your import is failing due to a missing package, you can\nmanually install dependencies using either !pip or !apt.\n\nTo view examples of installing some common dependencies, click the\n\"Open Examples\" button below.\n\u001b[0;31m---------------------------------------------------------------------------\u001b[0m\n"
          ],
          "errorDetails": {
            "actions": [
              {
                "action": "open_url",
                "actionText": "Open Examples",
                "url": "/notebooks/snippets/importing_libraries.ipynb"
              }
            ]
          }
        }
      ]
    },
    {
      "cell_type": "code",
      "source": [],
      "metadata": {
        "id": "IUE3LsrsITaZ"
      },
      "execution_count": null,
      "outputs": []
    }
  ],
  "metadata": {
    "colab": {
      "provenance": []
    },
    "kernelspec": {
      "display_name": "Python 3",
      "name": "python3"
    },
    "language_info": {
      "name": "python"
    }
  },
  "nbformat": 4,
  "nbformat_minor": 0
}